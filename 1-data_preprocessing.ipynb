{
 "cells": [
  {
   "cell_type": "code",
   "execution_count": null,
   "id": "b37ae44a",
   "metadata": {},
   "outputs": [],
   "source": [
    "#Prepare data ids and scores for the dataset class in pickle files"
   ]
  },
  {
   "cell_type": "code",
   "execution_count": null,
   "id": "c2406afd",
   "metadata": {
    "id": "c2406afd"
   },
   "outputs": [],
   "source": [
    "with open('train.txt') as f:\n",
    "    lines = f.readlines()\n",
    "    f.close()"
   ]
  },
  {
   "cell_type": "code",
   "execution_count": null,
   "id": "338397b6",
   "metadata": {
    "id": "338397b6"
   },
   "outputs": [],
   "source": [
    "for i,l in enumerate(lines):\n",
    "    lines[i] = l.replace('\\n','')"
   ]
  },
  {
   "cell_type": "code",
   "execution_count": null,
   "id": "7f5b461c",
   "metadata": {
    "id": "7f5b461c"
   },
   "outputs": [],
   "source": [
    "train_dict = {}\n",
    "ids = []\n",
    "for l in lines:\n",
    "    train_dict[l.split(',')[0]]=l.split(',')[1]\n",
    "    ids.append(l.split(',')[0])"
   ]
  },
  {
   "cell_type": "code",
   "execution_count": null,
   "id": "6Sd8f3FJey-f",
   "metadata": {
    "executionInfo": {
     "elapsed": 7,
     "status": "ok",
     "timestamp": 1677159301017,
     "user": {
      "displayName": "Hanene Fatima Zohra BRACHEMI MEFTAH",
      "userId": "05471859942716114157"
     },
     "user_tz": -60
    },
    "id": "6Sd8f3FJey-f"
   },
   "outputs": [],
   "source": [
    "for i in range(len(ids)):\n",
    "  ids[i] = 'train/'+ids[i] #the 'train/' is added in case the train set is combined with other data folders"
   ]
  },
  {
   "cell_type": "code",
   "execution_count": null,
   "id": "670b2286",
   "metadata": {
    "executionInfo": {
     "elapsed": 342,
     "status": "ok",
     "timestamp": 1677158582529,
     "user": {
      "displayName": "Hanene Fatima Zohra BRACHEMI MEFTAH",
      "userId": "05471859942716114157"
     },
     "user_tz": -60
    },
    "id": "670b2286"
   },
   "outputs": [],
   "source": [
    "import pickle"
   ]
  },
  {
   "cell_type": "code",
   "execution_count": null,
   "id": "f0f0f988",
   "metadata": {
    "executionInfo": {
     "elapsed": 804,
     "status": "ok",
     "timestamp": 1677161420465,
     "user": {
      "displayName": "Hanene Fatima Zohra BRACHEMI MEFTAH",
      "userId": "05471859942716114157"
     },
     "user_tz": -60
    },
    "id": "f0f0f988"
   },
   "outputs": [],
   "source": [
    "with open('scores.pickle', 'wb') as f:\n",
    "    pickle.dump(train_dict, f)"
   ]
  },
  {
   "cell_type": "code",
   "execution_count": null,
   "id": "af56cf69",
   "metadata": {
    "executionInfo": {
     "elapsed": 412,
     "status": "ok",
     "timestamp": 1677159313471,
     "user": {
      "displayName": "Hanene Fatima Zohra BRACHEMI MEFTAH",
      "userId": "05471859942716114157"
     },
     "user_tz": -60
    },
    "id": "af56cf69"
   },
   "outputs": [],
   "source": [
    "with open('ids_train.pickle', 'wb') as f:\n",
    "    pickle.dump(ids, f)"
   ]
  },
  {
   "cell_type": "code",
   "execution_count": null,
   "id": "ae1fbfca",
   "metadata": {},
   "outputs": [],
   "source": [
    "#Validation and test ids "
   ]
  },
  {
   "cell_type": "code",
   "execution_count": null,
   "id": "9798c9a4",
   "metadata": {},
   "outputs": [],
   "source": [
    "import os"
   ]
  },
  {
   "cell_type": "code",
   "execution_count": null,
   "id": "f1d6c1ba",
   "metadata": {},
   "outputs": [],
   "source": [
    "ids_val=os.listdir('./validation/')\n",
    "ids_val.sort()"
   ]
  },
  {
   "cell_type": "code",
   "execution_count": null,
   "id": "56f42a85",
   "metadata": {},
   "outputs": [],
   "source": [
    "with open('ids_val.pickle', 'wb') as f:\n",
    "    pickle.dump(ids_val, f)"
   ]
  },
  {
   "cell_type": "code",
   "execution_count": null,
   "id": "b63e2beb",
   "metadata": {},
   "outputs": [],
   "source": [
    "ids_test=os.listdir('./test/')\n",
    "ids_test.sort()"
   ]
  },
  {
   "cell_type": "code",
   "execution_count": null,
   "id": "7c5501db",
   "metadata": {},
   "outputs": [],
   "source": [
    "with open('ids_test.pickle', 'wb') as f:\n",
    "    pickle.dump(ids_test, f)"
   ]
  },
  {
   "cell_type": "code",
   "execution_count": null,
   "id": "0269c3e6",
   "metadata": {},
   "outputs": [],
   "source": []
  }
 ],
 "metadata": {
  "colab": {
   "provenance": []
  },
  "kernelspec": {
   "display_name": "Python 3 (ipykernel)",
   "language": "python",
   "name": "python3"
  },
  "language_info": {
   "codemirror_mode": {
    "name": "ipython",
    "version": 3
   },
   "file_extension": ".py",
   "mimetype": "text/x-python",
   "name": "python",
   "nbconvert_exporter": "python",
   "pygments_lexer": "ipython3",
   "version": "3.9.13"
  }
 },
 "nbformat": 4,
 "nbformat_minor": 5
}
