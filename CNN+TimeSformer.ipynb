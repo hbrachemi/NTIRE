{
 "cells": [
  {
   "cell_type": "markdown",
   "metadata": {
    "id": "VTRq65Wa_egm"
   },
   "source": [
    "#Dataset"
   ]
  },
  {
   "cell_type": "code",
   "execution_count": 1,
   "metadata": {
    "id": "13ZqxNPEBLXl"
   },
   "outputs": [],
   "source": [
    "from dataset import *"
   ]
  },
  {
   "cell_type": "code",
   "execution_count": 2,
   "metadata": {
    "id": "TeyqH38mAac3"
   },
   "outputs": [],
   "source": [
    "import os\n",
    "import pickle\n",
    "import numpy as np\n",
    "import torch"
   ]
  },
  {
   "cell_type": "code",
   "execution_count": 3,
   "metadata": {
    "id": "Zf1ujkyv6soG"
   },
   "outputs": [],
   "source": [
    "class dataset(Dataset):\n",
    "    \"\"\"Adaptive dataset.\"\"\"\n",
    "\n",
    "    def __init__(self,db_path='',ids_path='',part='',\n",
    "                 labels_path=''\n",
    "                 ):\n",
    "        self.db_path=db_path       \n",
    "        self.labels_path=labels_path\n",
    "        self.ids_path=ids_path\n",
    "        self.part=part\n",
    "        \n",
    "        pickle_in = open(self.ids_path,'rb')\n",
    "        self.list_IDs= pickle.load(pickle_in)\n",
    "        self.list_IDs=list(self.list_IDs)\n",
    "        pickle_in.close()\n",
    "        \n",
    "        pickle_in = open(self.labels_path,'rb')\n",
    "        self.labels = pickle.load(pickle_in)\n",
    "        pickle_in.close()\n",
    "        \n",
    "        \n",
    "    def __len__(self):\n",
    "        return int(len(self.list_IDs))\n",
    "\n",
    "    def __getitem__(self, idx):\n",
    "        if torch.is_tensor(idx):\n",
    "            idx = idx.tolist()\n",
    "        \n",
    "        x=np.load(os.path.join(self.db_path,self.list_IDs[idx]+'.npy'))\n",
    "        x=torch.from_numpy(x)\n",
    "        x = (x.permute(2,0,1)).float()\n",
    "\n",
    "        label = self.labels[self.list_IDs[idx]]\n",
    "        label = np.array([label])\n",
    "        label = label.astype('float32')\n",
    "       \n",
    "        return x,label"
   ]
  },
  {
   "cell_type": "markdown",
   "metadata": {
    "id": "DmzcZgS0UgYE"
   },
   "source": [
    "**TO EDIT**"
   ]
  },
  {
   "cell_type": "code",
   "execution_count": 4,
   "metadata": {
    "colab": {
     "base_uri": "https://localhost:8080/"
    },
    "executionInfo": {
     "elapsed": 358,
     "status": "ok",
     "timestamp": 1651278047708,
     "user": {
      "displayName": "SMAHI Abdeldjalil",
      "userId": "14638536864209857827"
     },
     "user_tz": -120
    },
    "id": "W1gfx3NIAmSu",
    "outputId": "e5ba61b3-2de1-4ee4-9dbe-1e423b50f233"
   },
   "outputs": [
    {
     "name": "stdout",
     "output_type": "stream",
     "text": [
      "Length of Train Data : 839\n"
     ]
    }
   ],
   "source": [
    "train_data=dataset(db_path='./Features/resnet50/train/',\n",
    "                        ids_path='train_ids.pickle',\n",
    "                        labels_path='./scores.pickle'\n",
    "                 )\n",
    "                 \n",
    "print(f\"Length of Train Data : {len(train_data)}\")\n"
   ]
  },
  {
   "cell_type": "markdown",
   "metadata": {
    "id": "G66pU790CW8r"
   },
   "source": [
    "#DataLoader"
   ]
  },
  {
   "cell_type": "code",
   "execution_count": 5,
   "metadata": {
    "id": "bpFKMh37BuFN"
   },
   "outputs": [],
   "source": [
    "from torch.utils.data import  DataLoader"
   ]
  },
  {
   "cell_type": "code",
   "execution_count": 6,
   "metadata": {
    "id": "LcUWfgmZCYxB"
   },
   "outputs": [],
   "source": [
    "batch_size = 1\n",
    "train_dl = DataLoader(train_data, batch_size, shuffle = True, num_workers = 2, pin_memory = True)"
   ]
  },
  {
   "cell_type": "markdown",
   "metadata": {
    "id": "WTLlBnsOCk11"
   },
   "source": [
    "#Model"
   ]
  },
  {
   "cell_type": "code",
   "execution_count": 7,
   "metadata": {
    "id": "4kdSHfnUCaN3"
   },
   "outputs": [],
   "source": [
    "from timesformer.models.vit import TimeSformer\n",
    "import torch.nn as nn"
   ]
  },
  {
   "cell_type": "code",
   "execution_count": 8,
   "metadata": {
    "colab": {
     "base_uri": "https://localhost:8080/"
    },
    "executionInfo": {
     "elapsed": 4760,
     "status": "ok",
     "timestamp": 1651274811896,
     "user": {
      "displayName": "SMAHI Abdeldjalil",
      "userId": "14638536864209857827"
     },
     "user_tz": -120
    },
    "id": "cHvvGK6nCcgj",
    "outputId": "c6268a29-f0dd-4156-d80a-cc0119c126a3"
   },
   "outputs": [
    {
     "name": "stderr",
     "output_type": "stream",
     "text": [
      "Pretrained model URL is invalid, using random initialization.\n"
     ]
    }
   ],
   "source": [
    "model = TimeSformer(img_size=50,num_classes=1,patch_size=1,num_frames=10,attention_type='divided_space_time')"
   ]
  },
  {
   "cell_type": "markdown",
   "metadata": {
    "id": "oY6UmNiMCmGJ"
   },
   "source": [
    "#Train function"
   ]
  },
  {
   "cell_type": "code",
   "execution_count": 9,
   "metadata": {
    "id": "oto1I6FLCe3X"
   },
   "outputs": [],
   "source": [
    "from torch.optim.lr_scheduler import ReduceLROnPlateau \n",
    "import time\n",
    "import copy\n",
    "from tqdm import tqdm"
   ]
  },
  {
   "cell_type": "code",
   "execution_count": 10,
   "metadata": {
    "id": "Yrkjj5O_Cnzj"
   },
   "outputs": [],
   "source": [
    "def train_model(model, dataloaders,criterion, optimizer,norm=100,debut=0, num_epochs=25, is_inception=False,scheduler=None):\n",
    "    since = time.time()\n",
    "\n",
    "    val_loss_history = []\n",
    "    loss_history = []\n",
    "    best_loss=99999999\n",
    "    best_model_wts = copy.deepcopy(model.state_dict())\n",
    "\n",
    "    for epoch in range(debut,num_epochs):\n",
    "        print('Epoch {}/{}'.format(epoch, num_epochs - 1))\n",
    "        print('-' * 10)\n",
    "        \n",
    "        # Each epoch has a training and validation phase\n",
    "        for phase in ['train']:\n",
    "            \n",
    "            if phase == 'train':\n",
    "                model.train()  # Set model to training mode\n",
    "            else:\n",
    "                model.eval()   # Set model to evaluate mode\n",
    "\n",
    "            running_loss = 0.0\n",
    "\n",
    "            # Iterate over data.\n",
    "            for batch_idx, (inputs, labels) in tqdm(enumerate(dataloaders[phase])):\n",
    "                inputs = inputs.to(device, non_blocking=True)\n",
    "                labels = (labels.to(device))/norm\n",
    "\n",
    "                # zero the parameter gradients\n",
    "                optimizer.zero_grad()\n",
    "\n",
    "                # forward\n",
    "                # track history if only in train\n",
    "                with torch.set_grad_enabled(phase == 'train'):\n",
    "                    if is_inception and phase == 'train':\n",
    "                        outputs, aux_outputs = model(inputs)\n",
    "                        loss1 = criterion(outputs, labels)\n",
    "                        loss2 = criterion(aux_outputs, labels)\n",
    "                        loss = loss1 + 0.4*loss2\n",
    "                    else:\n",
    "                        outputs = model(inputs)\n",
    "                        loss = criterion(outputs, labels)\n",
    "                        action_loss=loss\n",
    "                    preds = outputs\n",
    "\n",
    "                    # backward + optimize only if in training phase\n",
    "                    if phase == 'train':\n",
    "                        action_loss.backward()\n",
    "                        optimizer.step()\n",
    "\n",
    "                # statistics\n",
    "                running_loss += loss.item() * inputs.size(0)\n",
    "\n",
    "            epoch_loss = running_loss / len(dataloaders[phase].dataset)\n",
    "            loss_history.append(epoch_loss)\n",
    "\n",
    "            if batch_idx % 10 == 0:\n",
    "                print('Train Epoch: {} [{}/{} ({:.0f}%)]\\tLoss: {:.6f}'.format(\n",
    "                epoch, batch_idx * len(inputs), len(dataloaders[phase]),\n",
    "                100. * batch_idx / len(dataloaders[phase]), loss.item()))\n",
    "\n",
    "\n",
    "\n",
    "            print('{} Loss: {:.4f} '.format(phase, epoch_loss))\n",
    "\n",
    "            # deep copy the model\n",
    "            if phase == 'val' and epoch_loss < best_loss:\n",
    "                best_loss = epoch_loss\n",
    "                best_model_wts = copy.deepcopy(model.state_dict())\n",
    "            if phase == 'val':\n",
    "                val_loss_history.append(epoch_loss)\n",
    "            \n",
    "      #  scheduler.step(val_loss_history[-1])\n",
    "      \n",
    "    time_elapsed = time.time() - since\n",
    "    print('Training complete in {:.0f}m {:.0f}s'.format(time_elapsed // 60, time_elapsed % 60))\n",
    "    print('Best val loss: {:4f}'.format(best_loss))\n",
    "    vloss_history={}\n",
    "    vloss_history['val']=val_loss_history\n",
    "    vloss_history['loss']=loss_history\n",
    "   \n",
    "    return model, vloss_history"
   ]
  },
  {
   "cell_type": "code",
   "execution_count": 11,
   "metadata": {
    "id": "3JvLHD8FCsqu"
   },
   "outputs": [
    {
     "name": "stderr",
     "output_type": "stream",
     "text": [
      "/home/hbrachem@admr.insa/anaconda3/lib/python3.9/site-packages/torch/cuda/__init__.py:88: UserWarning: CUDA initialization: CUDA unknown error - this may be due to an incorrectly set up environment, e.g. changing env variable CUDA_VISIBLE_DEVICES after program start. Setting the available devices to be zero. (Triggered internally at ../c10/cuda/CUDAFunctions.cpp:109.)\n",
      "  return torch._C._cuda_getDeviceCount() > 0\n"
     ]
    }
   ],
   "source": [
    "device = torch.device(\"cuda:0\" if torch.cuda.is_available() else \"cpu\")\n",
    "if torch.cuda.is_available():\n",
    "    model.cuda()"
   ]
  },
  {
   "cell_type": "markdown",
   "metadata": {
    "id": "8EoOFz-sCyek"
   },
   "source": [
    "#Train"
   ]
  },
  {
   "cell_type": "code",
   "execution_count": 12,
   "metadata": {
    "id": "8xvS-tT7Cvt1"
   },
   "outputs": [],
   "source": [
    "num_epochs = 10\n",
    "lr = 0.0001"
   ]
  },
  {
   "cell_type": "code",
   "execution_count": 13,
   "metadata": {
    "id": "MgX4xRH0C35p"
   },
   "outputs": [],
   "source": [
    "model=model.float()\n",
    "params_to_update=[]\n",
    "for name,param in model.named_parameters():\n",
    "        if param.requires_grad == True:\n",
    "            params_to_update.append(param)\n",
    "opt_func = torch.optim.Adam(params_to_update,lr=lr)\n",
    "scheduler = ReduceLROnPlateau(opt_func, 'min' ,patience=5,verbose=True)\n",
    "criterion = nn.MSELoss()"
   ]
  },
  {
   "cell_type": "code",
   "execution_count": 31,
   "metadata": {
    "id": "LKBarXm_C6EV"
   },
   "outputs": [
    {
     "name": "stdout",
     "output_type": "stream",
     "text": [
      "Epoch 0/9\n",
      "----------\n"
     ]
    },
    {
     "name": "stderr",
     "output_type": "stream",
     "text": [
      "839it [10:55,  1.28it/s]"
     ]
    },
    {
     "name": "stdout",
     "output_type": "stream",
     "text": [
      "train Loss: 0.0181 \n",
      "Epoch 1/9\n",
      "----------\n"
     ]
    },
    {
     "name": "stderr",
     "output_type": "stream",
     "text": [
      "\n",
      "839it [11:02,  1.27it/s]"
     ]
    },
    {
     "name": "stdout",
     "output_type": "stream",
     "text": [
      "train Loss: 0.0182 \n",
      "Epoch 2/9\n",
      "----------\n"
     ]
    },
    {
     "name": "stderr",
     "output_type": "stream",
     "text": [
      "\n",
      "839it [12:12,  1.15it/s]"
     ]
    },
    {
     "name": "stdout",
     "output_type": "stream",
     "text": [
      "train Loss: 0.0201 \n",
      "Epoch 3/9\n",
      "----------\n"
     ]
    },
    {
     "name": "stderr",
     "output_type": "stream",
     "text": [
      "\n",
      "839it [12:46,  1.10it/s]"
     ]
    },
    {
     "name": "stdout",
     "output_type": "stream",
     "text": [
      "train Loss: 0.0184 \n",
      "Epoch 4/9\n",
      "----------\n"
     ]
    },
    {
     "name": "stderr",
     "output_type": "stream",
     "text": [
      "\n",
      "839it [11:22,  1.23it/s]"
     ]
    },
    {
     "name": "stdout",
     "output_type": "stream",
     "text": [
      "train Loss: 0.0179 \n",
      "Epoch 5/9\n",
      "----------\n"
     ]
    },
    {
     "name": "stderr",
     "output_type": "stream",
     "text": [
      "\n",
      "839it [11:31,  1.21it/s]"
     ]
    },
    {
     "name": "stdout",
     "output_type": "stream",
     "text": [
      "train Loss: 0.0183 \n",
      "Epoch 6/9\n",
      "----------\n"
     ]
    },
    {
     "name": "stderr",
     "output_type": "stream",
     "text": [
      "\n",
      "839it [12:57,  1.08it/s]"
     ]
    },
    {
     "name": "stdout",
     "output_type": "stream",
     "text": [
      "train Loss: 0.0185 \n",
      "Epoch 7/9\n",
      "----------\n"
     ]
    },
    {
     "name": "stderr",
     "output_type": "stream",
     "text": [
      "\n",
      "839it [40:24,  2.89s/it]"
     ]
    },
    {
     "name": "stdout",
     "output_type": "stream",
     "text": [
      "train Loss: 0.0182 \n",
      "Epoch 8/9\n",
      "----------\n"
     ]
    },
    {
     "name": "stderr",
     "output_type": "stream",
     "text": [
      "\n",
      "839it [12:09,  1.15it/s]"
     ]
    },
    {
     "name": "stdout",
     "output_type": "stream",
     "text": [
      "train Loss: 0.0174 \n",
      "Epoch 9/9\n",
      "----------\n"
     ]
    },
    {
     "name": "stderr",
     "output_type": "stream",
     "text": [
      "\n",
      "839it [12:09,  1.15it/s]"
     ]
    },
    {
     "name": "stdout",
     "output_type": "stream",
     "text": [
      "train Loss: 0.0179 \n",
      "Training complete in 147m 30s\n",
      "Best val loss: 99999999.000000\n"
     ]
    },
    {
     "name": "stderr",
     "output_type": "stream",
     "text": [
      "\n"
     ]
    }
   ],
   "source": [
    "from torch.functional import norm\n",
    "[model,history] = train_model(model,dataloaders={'train':train_dl},optimizer=opt_func,num_epochs=num_epochs,\n",
    "                    criterion=criterion,scheduler=scheduler,norm=100)"
   ]
  },
  {
   "cell_type": "code",
   "execution_count": 32,
   "metadata": {
    "id": "wPNZjjMcihJl"
   },
   "outputs": [],
   "source": [
    "import matplotlib.pyplot as plt"
   ]
  },
  {
   "cell_type": "code",
   "execution_count": 33,
   "metadata": {
    "id": "CgploFIailsx"
   },
   "outputs": [
    {
     "data": {
      "text/plain": [
       "[<matplotlib.lines.Line2D at 0x7ff189214250>]"
      ]
     },
     "execution_count": 33,
     "metadata": {},
     "output_type": "execute_result"
    },
    {
     "data": {
      "image/png": "[encoded data removed]",
      "text/plain": [
       "<Figure size 640x480 with 1 Axes>"
      ]
     },
     "metadata": {},
     "output_type": "display_data"
    }
   ],
   "source": [
    "#plt.plot(range(len(history[\"val\"])),history[\"val\"])\n",
    "plt.plot(range(len(history[\"loss\"])),history[\"loss\"])"
   ]
  },
  {
   "cell_type": "markdown",
   "metadata": {
    "id": "B5N15-4fFOAg"
   },
   "source": [
    "#Test"
   ]
  },
  {
   "cell_type": "code",
   "execution_count": 34,
   "metadata": {
    "id": "iTcNHGrJJN7U"
   },
   "outputs": [],
   "source": [
    "def step(inputs):\n",
    "    data, label = inputs\n",
    "    #data=data.cuda()\n",
    "    preds = model(data)\n",
    "    return preds, label"
   ]
  },
  {
   "cell_type": "code",
   "execution_count": 35,
   "metadata": {
    "id": "AJIhzvByFREw"
   },
   "outputs": [],
   "source": [
    "with torch.no_grad():\n",
    "    y_pred=[]\n",
    "    label=[]\n",
    "    for i, batch in enumerate(train_dl):\n",
    "        pred,l = step(batch)\n",
    "        y_pred.append(pred[0].cpu())\n",
    "        label.append(float(l[0][0]))\n"
   ]
  },
  {
   "cell_type": "code",
   "execution_count": 36,
   "metadata": {
    "id": "BQeVZI_sFR60"
   },
   "outputs": [],
   "source": [
    "import pandas\n",
    "import scipy.io\n",
    "import numpy as np\n",
    "import argparse\n",
    "import time\n",
    "import math\n",
    "import os\n",
    "import numpy as np\n",
    "from sklearn.impute import SimpleImputer\n",
    "from sklearn.model_selection import train_test_split\n",
    "from sklearn.linear_model import LinearRegression\n",
    "from sklearn.metrics import mean_squared_error\n",
    "from sklearn import preprocessing\n",
    "from scipy.optimize import curve_fit\n",
    "from sklearn.svm import SVR\n",
    "from sklearn.model_selection import RandomizedSearchCV\n",
    "import scipy.stats\n",
    "from concurrent import futures\n",
    "import functools\n",
    "import warnings\n",
    "warnings.filterwarnings(\"ignore\")\n",
    "\n",
    "def logistic_func(X, bayta1, bayta2, bayta3, bayta4):\n",
    "  # 4-parameter logistic function\n",
    "  logisticPart = 1 + np.exp(np.negative(np.divide(X - bayta3, np.abs(bayta4))))\n",
    "  yhat = bayta2 + np.divide(bayta1 - bayta2, logisticPart)\n",
    "  return yhat\n",
    "\n",
    "def compute_metrics(y_pred, y):\n",
    "  '''\n",
    "  compute metrics btw predictions & labels\n",
    "  '''\n",
    "  # compute SRCC & KRCC\n",
    "  SRCC = scipy.stats.spearmanr(y, y_pred)[0]\n",
    "  try:\n",
    "    KRCC = scipy.stats.kendalltau(y, y_pred)[0]\n",
    "  except:\n",
    "    KRCC = scipy.stats.kendalltau(y, y_pred, method='asymptotic')[0]\n",
    "\n",
    "  # logistic regression btw y_pred & y\n",
    "  beta_init = [np.max(y), np.min(y), np.mean(y_pred), 0.5]\n",
    "  popt, _ = curve_fit(logistic_func, y_pred, y, p0=beta_init, maxfev=int(1e8))\n",
    "  y_pred_logistic = logistic_func(y_pred, *popt)\n",
    "  \n",
    "  # compute  PLCC RMSE\n",
    "  PLCC = scipy.stats.pearsonr(y, y_pred_logistic)[0]\n",
    "  RMSE = np.sqrt(mean_squared_error(y, y_pred_logistic))\n",
    "  return [SRCC, KRCC, PLCC, RMSE]"
   ]
  },
  {
   "cell_type": "markdown",
   "metadata": {
    "id": "XaXp-Ho2FUGu"
   },
   "source": [
    "#Scores"
   ]
  },
  {
   "cell_type": "code",
   "execution_count": 37,
   "metadata": {
    "id": "-FgWU94vFTfh"
   },
   "outputs": [],
   "source": [
    "y=[]\n",
    "for i in range(len(y_pred)):\n",
    "  y.append(y_pred[i].cpu()[0])"
   ]
  },
  {
   "cell_type": "code",
   "execution_count": 38,
   "metadata": {
    "id": "gHqDtMRUFXAw"
   },
   "outputs": [],
   "source": [
    "y_true=label"
   ]
  },
  {
   "cell_type": "code",
   "execution_count": 39,
   "metadata": {
    "id": "Za4cnk6UFZC-"
   },
   "outputs": [],
   "source": [
    "[SRCC, KRCC, PLCC, RMSE]=compute_metrics(y,y_true)"
   ]
  },
  {
   "cell_type": "code",
   "execution_count": 40,
   "metadata": {
    "id": "l8cbR-0aFagx"
   },
   "outputs": [
    {
     "data": {
      "text/plain": [
       "0.004657626052325375"
      ]
     },
     "execution_count": 40,
     "metadata": {},
     "output_type": "execute_result"
    }
   ],
   "source": [
    "SRCC"
   ]
  },
  {
   "cell_type": "code",
   "execution_count": 41,
   "metadata": {
    "id": "hZZUMKPiJkMt"
   },
   "outputs": [
    {
     "data": {
      "text/plain": [
       "0.07534895719316728"
      ]
     },
     "execution_count": 41,
     "metadata": {},
     "output_type": "execute_result"
    }
   ],
   "source": [
    "PLCC"
   ]
  },
  {
   "cell_type": "code",
   "execution_count": 42,
   "metadata": {
    "id": "r4yDdNfqJktk"
   },
   "outputs": [
    {
     "data": {
      "text/plain": [
       "0.004995228078572213"
      ]
     },
     "execution_count": 42,
     "metadata": {},
     "output_type": "execute_result"
    }
   ],
   "source": [
    "KRCC"
   ]
  },
  {
   "cell_type": "code",
   "execution_count": 43,
   "metadata": {
    "id": "LaRIdEnoT7xB"
   },
   "outputs": [
    {
     "data": {
      "text/plain": [
       "12.899717838562337"
      ]
     },
     "execution_count": 43,
     "metadata": {},
     "output_type": "execute_result"
    }
   ],
   "source": [
    "RMSE"
   ]
  },
  {
   "cell_type": "code",
   "execution_count": null,
   "metadata": {
    "id": "0uc6EGWMTf1U"
   },
   "outputs": [],
   "source": []
  }
 ],
 "metadata": {
  "accelerator": "GPU",
  "colab": {
   "collapsed_sections": [],
   "name": "CNN+TimeSformer.ipynb",
   "provenance": []
  },
  "kernelspec": {
   "display_name": "Python 3 (ipykernel)",
   "language": "python",
   "name": "python3"
  },
  "language_info": {
   "codemirror_mode": {
    "name": "ipython",
    "version": 3
   },
   "file_extension": ".py",
   "mimetype": "text/x-python",
   "name": "python",
   "nbconvert_exporter": "python",
   "pygments_lexer": "ipython3",
   "version": "3.8.10"
  }
 },
 "nbformat": 4,
 "nbformat_minor": 1
}
