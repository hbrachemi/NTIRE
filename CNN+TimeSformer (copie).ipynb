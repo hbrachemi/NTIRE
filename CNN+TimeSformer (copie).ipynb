{
 "cells": [
  {
   "cell_type": "markdown",
   "metadata": {
    "id": "VTRq65Wa_egm"
   },
   "source": [
    "#Dataset"
   ]
  },
  {
   "cell_type": "code",
   "execution_count": 1,
   "metadata": {
    "executionInfo": {
     "elapsed": 5421,
     "status": "ok",
     "timestamp": 1677833298088,
     "user": {
      "displayName": "Hanene Fatima Zohra BRACHEMI MEFTAH",
      "userId": "05471859942716114157"
     },
     "user_tz": -60
    },
    "id": "13ZqxNPEBLXl"
   },
   "outputs": [],
   "source": [
    "from dataset import *"
   ]
  },
  {
   "cell_type": "code",
   "execution_count": 2,
   "metadata": {
    "executionInfo": {
     "elapsed": 6,
     "status": "ok",
     "timestamp": 1677833298088,
     "user": {
      "displayName": "Hanene Fatima Zohra BRACHEMI MEFTAH",
      "userId": "05471859942716114157"
     },
     "user_tz": -60
    },
    "id": "TeyqH38mAac3"
   },
   "outputs": [],
   "source": [
    "\n",
    "import os\n",
    "import pickle\n",
    "import numpy as np\n",
    "import torch"
   ]
  },
  {
   "cell_type": "code",
   "execution_count": 3,
   "metadata": {
    "executionInfo": {
     "elapsed": 5,
     "status": "ok",
     "timestamp": 1677833298088,
     "user": {
      "displayName": "Hanene Fatima Zohra BRACHEMI MEFTAH",
      "userId": "05471859942716114157"
     },
     "user_tz": -60
    },
    "id": "AJV2AMX_eERh"
   },
   "outputs": [],
   "source": [
    "class dataset(Dataset):\n",
    "    \"\"\"Adaptive dataset.\"\"\"\n",
    "\n",
    "    def __init__(self,db_path='',ids_path='',part='',\n",
    "                 \n",
    "                 labels_path=''\n",
    "                 ):\n",
    "        self.db_path=db_path       \n",
    "        self.labels_path=labels_path\n",
    "        self.ids_path=ids_path\n",
    "        self.part=part\n",
    "        \n",
    "        pickle_in = open(self.ids_path,'rb')\n",
    "        self.list_IDs= pickle.load(pickle_in)\n",
    "        self.list_IDs=list(self.list_IDs)\n",
    "        pickle_in.close()\n",
    "        \n",
    "        pickle_in = open(self.labels_path,'rb')\n",
    "        self.labels = pickle.load(pickle_in)\n",
    "        pickle_in.close()\n",
    "        \n",
    "        \n",
    "    def __len__(self):\n",
    "        return int(len(self.list_IDs))\n",
    "\n",
    "    def __getitem__(self, idx):\n",
    "        if torch.is_tensor(idx):\n",
    "            idx = idx.tolist()\n",
    "        \n",
    "        id=self.list_IDs[idx]\n",
    "        if id[0] == 'L':\n",
    "            id='l'+id[1:]\n",
    "        if id[0] == 'K':\n",
    "            id='k'+id[1:]\n",
    "\n",
    "        x=np.load(os.path.join(self.db_path,id+'.npy'))\n",
    "        x=torch.from_numpy(x)\n",
    "        x = (x.permute(2,0,1)).float()\n",
    "        print(x.shape)\n",
    "\n",
    "\n",
    "        label = self.labels[self.list_IDs[idx]]\n",
    "        if id.split(\"/\")[0] != 'train':\n",
    "          label = label * 20\n",
    "        label = np.array([label])\n",
    "        label = label.astype('float32')\n",
    "       \n",
    "        return x,label"
   ]
  },
  {
   "cell_type": "code",
   "execution_count": 4,
   "metadata": {
    "executionInfo": {
     "elapsed": 5,
     "status": "ok",
     "timestamp": 1677833298089,
     "user": {
      "displayName": "Hanene Fatima Zohra BRACHEMI MEFTAH",
      "userId": "05471859942716114157"
     },
     "user_tz": -60
    },
    "id": "o35Kfy9cDInK"
   },
   "outputs": [],
   "source": [
    "class dataset(Dataset):\n",
    "    \"\"\"Adaptive dataset.\"\"\"\n",
    "\n",
    "    def __init__(self,db_path='',ids_path='',part='',\n",
    "                 \n",
    "                 labels_path=''\n",
    "                 ):\n",
    "        self.db_path=db_path       \n",
    "        self.labels_path=labels_path\n",
    "        self.ids_path=ids_path\n",
    "        self.part=part\n",
    "        \n",
    "        pickle_in = open(self.ids_path,'rb')\n",
    "        self.list_IDs= pickle.load(pickle_in)\n",
    "        self.list_IDs=list(self.list_IDs)\n",
    "        pickle_in.close()\n",
    "        \n",
    "        pickle_in = open(self.labels_path,'rb')\n",
    "        self.labels = pickle.load(pickle_in)\n",
    "        pickle_in.close()\n",
    "        \n",
    "        ids = []\n",
    "        for id in self.list_IDs:\n",
    "            if id.split(\"/\")[0] != 'train':\n",
    "                continue\n",
    "            ids.append(id)\n",
    "        self.list_IDs = ids\n",
    "        \n",
    "    def __len__(self):\n",
    "        return int(len(self.list_IDs))\n",
    "\n",
    "    def __getitem__(self, idx):\n",
    "        if torch.is_tensor(idx):\n",
    "            idx = idx.tolist()\n",
    "        \n",
    "        id=self.list_IDs[idx]\n",
    "        if id[0] == 'L':\n",
    "            id='l'+id[1:]\n",
    "            \n",
    "        if id[0] == 'K':\n",
    "            id='k'+id[1:]\n",
    "\n",
    "        x=np.load(os.path.join(self.db_path,id+'.npy'))\n",
    "        x=torch.from_numpy(x)\n",
    "      # print(x.shape)\n",
    "        x = (x.permute(2,0,1)).float()\n",
    "       #x = torch.unsqueeze(x,0)\n",
    "        label = self.labels[self.list_IDs[idx]]\n",
    "       # if id.split(\"/\")[0] != 'train':\n",
    "       #     label = label * 20\n",
    "        label = np.array([label])\n",
    "        label = label.astype('float32')\n",
    "       \n",
    "        return x,label"
   ]
  },
  {
   "cell_type": "markdown",
   "metadata": {
    "id": "DmzcZgS0UgYE"
   },
   "source": [
    "**TO EDIT**"
   ]
  },
  {
   "cell_type": "code",
   "execution_count": 5,
   "metadata": {
    "colab": {
     "base_uri": "https://localhost:8080/"
    },
    "executionInfo": {
     "elapsed": 459,
     "status": "ok",
     "timestamp": 1677833298543,
     "user": {
      "displayName": "Hanene Fatima Zohra BRACHEMI MEFTAH",
      "userId": "05471859942716114157"
     },
     "user_tz": -60
    },
    "id": "W1gfx3NIAmSu",
    "outputId": "55666c87-340a-4fe6-a7a2-1a5b7d74fc05"
   },
   "outputs": [
    {
     "name": "stdout",
     "output_type": "stream",
     "text": [
      "Length of Train Data : 839\n"
     ]
    },
    {
     "ename": "NameError",
     "evalue": "name 'dataset_withIDs' is not defined",
     "output_type": "error",
     "traceback": [
      "\u001b[0;31m---------------------------------------------------------------------------\u001b[0m",
      "\u001b[0;31mNameError\u001b[0m                                 Traceback (most recent call last)",
      "Cell \u001b[0;32mIn[5], line 8\u001b[0m\n\u001b[1;32m      1\u001b[0m train_data\u001b[38;5;241m=\u001b[39mdataset(db_path\u001b[38;5;241m=\u001b[39m\u001b[38;5;124m'\u001b[39m\u001b[38;5;124m./Features/resnet50/\u001b[39m\u001b[38;5;124m'\u001b[39m,\n\u001b[1;32m      2\u001b[0m                         ids_path\u001b[38;5;241m=\u001b[39m\u001b[38;5;124m'\u001b[39m\u001b[38;5;124mids.pickle\u001b[39m\u001b[38;5;124m'\u001b[39m,\n\u001b[1;32m      3\u001b[0m                         labels_path\u001b[38;5;241m=\u001b[39m\u001b[38;5;124m'\u001b[39m\u001b[38;5;124m./scores1.pickle\u001b[39m\u001b[38;5;124m'\u001b[39m\n\u001b[1;32m      4\u001b[0m                  )\n\u001b[1;32m      6\u001b[0m \u001b[38;5;28mprint\u001b[39m(\u001b[38;5;124mf\u001b[39m\u001b[38;5;124m\"\u001b[39m\u001b[38;5;124mLength of Train Data : \u001b[39m\u001b[38;5;132;01m{\u001b[39;00m\u001b[38;5;28mlen\u001b[39m(train_data)\u001b[38;5;132;01m}\u001b[39;00m\u001b[38;5;124m\"\u001b[39m)\n\u001b[0;32m----> 8\u001b[0m val_data\u001b[38;5;241m=\u001b[39m\u001b[43mdataset_withIDs\u001b[49m(db_path\u001b[38;5;241m=\u001b[39m\u001b[38;5;124m'\u001b[39m\u001b[38;5;124m./Features/resnet50/\u001b[39m\u001b[38;5;124m'\u001b[39m,\n\u001b[1;32m      9\u001b[0m                         ids_path\u001b[38;5;241m=\u001b[39m\u001b[38;5;124m'\u001b[39m\u001b[38;5;124mids.pickle\u001b[39m\u001b[38;5;124m'\u001b[39m,\n\u001b[1;32m     10\u001b[0m                         labels_path\u001b[38;5;241m=\u001b[39m\u001b[38;5;124m'\u001b[39m\u001b[38;5;124m./scores1.pickle\u001b[39m\u001b[38;5;124m'\u001b[39m\n\u001b[1;32m     11\u001b[0m                  )\n\u001b[1;32m     13\u001b[0m \u001b[38;5;28mprint\u001b[39m(\u001b[38;5;124mf\u001b[39m\u001b[38;5;124m\"\u001b[39m\u001b[38;5;124mLength of Train Data : \u001b[39m\u001b[38;5;132;01m{\u001b[39;00m\u001b[38;5;28mlen\u001b[39m(val_data)\u001b[38;5;132;01m}\u001b[39;00m\u001b[38;5;124m\"\u001b[39m)\n",
      "\u001b[0;31mNameError\u001b[0m: name 'dataset_withIDs' is not defined"
     ]
    }
   ],
   "source": [
    "train_data=dataset(db_path='./Features/resnet50/',\n",
    "                        ids_path='ids.pickle',\n",
    "                        labels_path='./scores1.pickle'\n",
    "                 )\n",
    "                 \n",
    "print(f\"Length of Train Data : {len(train_data)}\")\n",
    "\n",
    "val_data=dataset_withIDs(db_path='./Features/resnet50/',\n",
    "                        ids_path='ids.pickle',\n",
    "                        labels_path='./scores1.pickle'\n",
    "                 )\n",
    "                 \n",
    "print(f\"Length of Train Data : {len(val_data)}\")\n"
   ]
  },
  {
   "cell_type": "markdown",
   "metadata": {
    "id": "G66pU790CW8r"
   },
   "source": [
    "#DataLoader"
   ]
  },
  {
   "cell_type": "code",
   "execution_count": 6,
   "metadata": {
    "executionInfo": {
     "elapsed": 8,
     "status": "ok",
     "timestamp": 1677833298544,
     "user": {
      "displayName": "Hanene Fatima Zohra BRACHEMI MEFTAH",
      "userId": "05471859942716114157"
     },
     "user_tz": -60
    },
    "id": "bpFKMh37BuFN"
   },
   "outputs": [],
   "source": [
    "from torch.utils.data import  DataLoader"
   ]
  },
  {
   "cell_type": "code",
   "execution_count": 7,
   "metadata": {
    "executionInfo": {
     "elapsed": 8,
     "status": "ok",
     "timestamp": 1677833298545,
     "user": {
      "displayName": "Hanene Fatima Zohra BRACHEMI MEFTAH",
      "userId": "05471859942716114157"
     },
     "user_tz": -60
    },
    "id": "LcUWfgmZCYxB"
   },
   "outputs": [
    {
     "ename": "NameError",
     "evalue": "name 'val_data' is not defined",
     "output_type": "error",
     "traceback": [
      "\u001b[0;31m---------------------------------------------------------------------------\u001b[0m",
      "\u001b[0;31mNameError\u001b[0m                                 Traceback (most recent call last)",
      "Cell \u001b[0;32mIn[7], line 3\u001b[0m\n\u001b[1;32m      1\u001b[0m batch_size \u001b[38;5;241m=\u001b[39m \u001b[38;5;241m1\u001b[39m\n\u001b[1;32m      2\u001b[0m train_dl \u001b[38;5;241m=\u001b[39m DataLoader(train_data, batch_size, shuffle \u001b[38;5;241m=\u001b[39m \u001b[38;5;28;01mTrue\u001b[39;00m, pin_memory \u001b[38;5;241m=\u001b[39m \u001b[38;5;28;01mTrue\u001b[39;00m)\n\u001b[0;32m----> 3\u001b[0m val_dl \u001b[38;5;241m=\u001b[39m DataLoader(\u001b[43mval_data\u001b[49m, \u001b[38;5;241m1\u001b[39m, shuffle \u001b[38;5;241m=\u001b[39m \u001b[38;5;28;01mFalse\u001b[39;00m)\n",
      "\u001b[0;31mNameError\u001b[0m: name 'val_data' is not defined"
     ]
    }
   ],
   "source": [
    "batch_size = 1\n",
    "train_dl = DataLoader(train_data, batch_size, shuffle = True, pin_memory = True)\n",
    "val_dl = DataLoader(val_data, 1, shuffle = False)"
   ]
  },
  {
   "cell_type": "markdown",
   "metadata": {
    "id": "WTLlBnsOCk11"
   },
   "source": [
    "#Model"
   ]
  },
  {
   "cell_type": "code",
   "execution_count": 8,
   "metadata": {
    "executionInfo": {
     "elapsed": 12397,
     "status": "ok",
     "timestamp": 1677833352788,
     "user": {
      "displayName": "Hanene Fatima Zohra BRACHEMI MEFTAH",
      "userId": "05471859942716114157"
     },
     "user_tz": -60
    },
    "id": "4kdSHfnUCaN3"
   },
   "outputs": [],
   "source": [
    "from timesformer.models.vit import TimeSformer\n",
    "import torch.nn as nn"
   ]
  },
  {
   "cell_type": "code",
   "execution_count": 9,
   "metadata": {
    "colab": {
     "base_uri": "https://localhost:8080/"
    },
    "executionInfo": {
     "elapsed": 3911,
     "status": "ok",
     "timestamp": 1677833356687,
     "user": {
      "displayName": "Hanene Fatima Zohra BRACHEMI MEFTAH",
      "userId": "05471859942716114157"
     },
     "user_tz": -60
    },
    "id": "cHvvGK6nCcgj",
    "outputId": "4319f60f-15a9-4049-e6f5-77ff99fb8564"
   },
   "outputs": [
    {
     "name": "stderr",
     "output_type": "stream",
     "text": [
      "Pretrained model URL is invalid, using random initialization.\n"
     ]
    }
   ],
   "source": [
    "model = TimeSformer(img_size=50,num_classes=1,patch_size=1,num_frames=20,attention_type='divided_space_time')"
   ]
  },
  {
   "cell_type": "code",
   "execution_count": 9,
   "metadata": {
    "colab": {
     "base_uri": "https://localhost:8080/"
    },
    "executionInfo": {
     "elapsed": 19,
     "status": "ok",
     "timestamp": 1677833356688,
     "user": {
      "displayName": "Hanene Fatima Zohra BRACHEMI MEFTAH",
      "userId": "05471859942716114157"
     },
     "user_tz": -60
    },
    "id": "ndm3PS5JfHTw",
    "outputId": "4af43858-a886-44ba-f7b4-986c61c779bc"
   },
   "outputs": [
    {
     "data": {
      "text/plain": [
       "TimeSformer(\n",
       "  (model): VisionTransformer(\n",
       "    (dropout): Dropout(p=0.0, inplace=False)\n",
       "    (patch_embed): PatchEmbed(\n",
       "      (proj): Conv1d(2048, 768, kernel_size=(1,), stride=(1,))\n",
       "    )\n",
       "    (pos_drop): Dropout(p=0.0, inplace=False)\n",
       "    (time_drop): Dropout(p=0.0, inplace=False)\n",
       "    (blocks): ModuleList(\n",
       "      (0): Block(\n",
       "        (norm1): LayerNorm((768,), eps=1e-06, elementwise_affine=True)\n",
       "        (attn): Attention(\n",
       "          (qkv): Linear(in_features=768, out_features=2304, bias=True)\n",
       "          (proj): Linear(in_features=768, out_features=768, bias=True)\n",
       "          (proj_drop): Dropout(p=0.0, inplace=False)\n",
       "          (attn_drop): Dropout(p=0.0, inplace=False)\n",
       "        )\n",
       "        (temporal_norm1): LayerNorm((768,), eps=1e-06, elementwise_affine=True)\n",
       "        (temporal_attn): Attention(\n",
       "          (qkv): Linear(in_features=768, out_features=2304, bias=True)\n",
       "          (proj): Linear(in_features=768, out_features=768, bias=True)\n",
       "          (proj_drop): Dropout(p=0.0, inplace=False)\n",
       "          (attn_drop): Dropout(p=0.0, inplace=False)\n",
       "        )\n",
       "        (temporal_fc): Linear(in_features=768, out_features=768, bias=True)\n",
       "        (drop_path): Identity()\n",
       "        (norm2): LayerNorm((768,), eps=1e-06, elementwise_affine=True)\n",
       "        (mlp): Mlp(\n",
       "          (fc1): Linear(in_features=768, out_features=3072, bias=True)\n",
       "          (act): GELU(approximate='none')\n",
       "          (fc2): Linear(in_features=3072, out_features=768, bias=True)\n",
       "          (drop): Dropout(p=0.0, inplace=False)\n",
       "        )\n",
       "      )\n",
       "      (1): Block(\n",
       "        (norm1): LayerNorm((768,), eps=1e-06, elementwise_affine=True)\n",
       "        (attn): Attention(\n",
       "          (qkv): Linear(in_features=768, out_features=2304, bias=True)\n",
       "          (proj): Linear(in_features=768, out_features=768, bias=True)\n",
       "          (proj_drop): Dropout(p=0.0, inplace=False)\n",
       "          (attn_drop): Dropout(p=0.0, inplace=False)\n",
       "        )\n",
       "        (temporal_norm1): LayerNorm((768,), eps=1e-06, elementwise_affine=True)\n",
       "        (temporal_attn): Attention(\n",
       "          (qkv): Linear(in_features=768, out_features=2304, bias=True)\n",
       "          (proj): Linear(in_features=768, out_features=768, bias=True)\n",
       "          (proj_drop): Dropout(p=0.0, inplace=False)\n",
       "          (attn_drop): Dropout(p=0.0, inplace=False)\n",
       "        )\n",
       "        (temporal_fc): Linear(in_features=768, out_features=768, bias=True)\n",
       "        (drop_path): DropPath()\n",
       "        (norm2): LayerNorm((768,), eps=1e-06, elementwise_affine=True)\n",
       "        (mlp): Mlp(\n",
       "          (fc1): Linear(in_features=768, out_features=3072, bias=True)\n",
       "          (act): GELU(approximate='none')\n",
       "          (fc2): Linear(in_features=3072, out_features=768, bias=True)\n",
       "          (drop): Dropout(p=0.0, inplace=False)\n",
       "        )\n",
       "      )\n",
       "      (2): Block(\n",
       "        (norm1): LayerNorm((768,), eps=1e-06, elementwise_affine=True)\n",
       "        (attn): Attention(\n",
       "          (qkv): Linear(in_features=768, out_features=2304, bias=True)\n",
       "          (proj): Linear(in_features=768, out_features=768, bias=True)\n",
       "          (proj_drop): Dropout(p=0.0, inplace=False)\n",
       "          (attn_drop): Dropout(p=0.0, inplace=False)\n",
       "        )\n",
       "        (temporal_norm1): LayerNorm((768,), eps=1e-06, elementwise_affine=True)\n",
       "        (temporal_attn): Attention(\n",
       "          (qkv): Linear(in_features=768, out_features=2304, bias=True)\n",
       "          (proj): Linear(in_features=768, out_features=768, bias=True)\n",
       "          (proj_drop): Dropout(p=0.0, inplace=False)\n",
       "          (attn_drop): Dropout(p=0.0, inplace=False)\n",
       "        )\n",
       "        (temporal_fc): Linear(in_features=768, out_features=768, bias=True)\n",
       "        (drop_path): DropPath()\n",
       "        (norm2): LayerNorm((768,), eps=1e-06, elementwise_affine=True)\n",
       "        (mlp): Mlp(\n",
       "          (fc1): Linear(in_features=768, out_features=3072, bias=True)\n",
       "          (act): GELU(approximate='none')\n",
       "          (fc2): Linear(in_features=3072, out_features=768, bias=True)\n",
       "          (drop): Dropout(p=0.0, inplace=False)\n",
       "        )\n",
       "      )\n",
       "      (3): Block(\n",
       "        (norm1): LayerNorm((768,), eps=1e-06, elementwise_affine=True)\n",
       "        (attn): Attention(\n",
       "          (qkv): Linear(in_features=768, out_features=2304, bias=True)\n",
       "          (proj): Linear(in_features=768, out_features=768, bias=True)\n",
       "          (proj_drop): Dropout(p=0.0, inplace=False)\n",
       "          (attn_drop): Dropout(p=0.0, inplace=False)\n",
       "        )\n",
       "        (temporal_norm1): LayerNorm((768,), eps=1e-06, elementwise_affine=True)\n",
       "        (temporal_attn): Attention(\n",
       "          (qkv): Linear(in_features=768, out_features=2304, bias=True)\n",
       "          (proj): Linear(in_features=768, out_features=768, bias=True)\n",
       "          (proj_drop): Dropout(p=0.0, inplace=False)\n",
       "          (attn_drop): Dropout(p=0.0, inplace=False)\n",
       "        )\n",
       "        (temporal_fc): Linear(in_features=768, out_features=768, bias=True)\n",
       "        (drop_path): DropPath()\n",
       "        (norm2): LayerNorm((768,), eps=1e-06, elementwise_affine=True)\n",
       "        (mlp): Mlp(\n",
       "          (fc1): Linear(in_features=768, out_features=3072, bias=True)\n",
       "          (act): GELU(approximate='none')\n",
       "          (fc2): Linear(in_features=3072, out_features=768, bias=True)\n",
       "          (drop): Dropout(p=0.0, inplace=False)\n",
       "        )\n",
       "      )\n",
       "      (4): Block(\n",
       "        (norm1): LayerNorm((768,), eps=1e-06, elementwise_affine=True)\n",
       "        (attn): Attention(\n",
       "          (qkv): Linear(in_features=768, out_features=2304, bias=True)\n",
       "          (proj): Linear(in_features=768, out_features=768, bias=True)\n",
       "          (proj_drop): Dropout(p=0.0, inplace=False)\n",
       "          (attn_drop): Dropout(p=0.0, inplace=False)\n",
       "        )\n",
       "        (temporal_norm1): LayerNorm((768,), eps=1e-06, elementwise_affine=True)\n",
       "        (temporal_attn): Attention(\n",
       "          (qkv): Linear(in_features=768, out_features=2304, bias=True)\n",
       "          (proj): Linear(in_features=768, out_features=768, bias=True)\n",
       "          (proj_drop): Dropout(p=0.0, inplace=False)\n",
       "          (attn_drop): Dropout(p=0.0, inplace=False)\n",
       "        )\n",
       "        (temporal_fc): Linear(in_features=768, out_features=768, bias=True)\n",
       "        (drop_path): DropPath()\n",
       "        (norm2): LayerNorm((768,), eps=1e-06, elementwise_affine=True)\n",
       "        (mlp): Mlp(\n",
       "          (fc1): Linear(in_features=768, out_features=3072, bias=True)\n",
       "          (act): GELU(approximate='none')\n",
       "          (fc2): Linear(in_features=3072, out_features=768, bias=True)\n",
       "          (drop): Dropout(p=0.0, inplace=False)\n",
       "        )\n",
       "      )\n",
       "      (5): Block(\n",
       "        (norm1): LayerNorm((768,), eps=1e-06, elementwise_affine=True)\n",
       "        (attn): Attention(\n",
       "          (qkv): Linear(in_features=768, out_features=2304, bias=True)\n",
       "          (proj): Linear(in_features=768, out_features=768, bias=True)\n",
       "          (proj_drop): Dropout(p=0.0, inplace=False)\n",
       "          (attn_drop): Dropout(p=0.0, inplace=False)\n",
       "        )\n",
       "        (temporal_norm1): LayerNorm((768,), eps=1e-06, elementwise_affine=True)\n",
       "        (temporal_attn): Attention(\n",
       "          (qkv): Linear(in_features=768, out_features=2304, bias=True)\n",
       "          (proj): Linear(in_features=768, out_features=768, bias=True)\n",
       "          (proj_drop): Dropout(p=0.0, inplace=False)\n",
       "          (attn_drop): Dropout(p=0.0, inplace=False)\n",
       "        )\n",
       "        (temporal_fc): Linear(in_features=768, out_features=768, bias=True)\n",
       "        (drop_path): DropPath()\n",
       "        (norm2): LayerNorm((768,), eps=1e-06, elementwise_affine=True)\n",
       "        (mlp): Mlp(\n",
       "          (fc1): Linear(in_features=768, out_features=3072, bias=True)\n",
       "          (act): GELU(approximate='none')\n",
       "          (fc2): Linear(in_features=3072, out_features=768, bias=True)\n",
       "          (drop): Dropout(p=0.0, inplace=False)\n",
       "        )\n",
       "      )\n",
       "      (6): Block(\n",
       "        (norm1): LayerNorm((768,), eps=1e-06, elementwise_affine=True)\n",
       "        (attn): Attention(\n",
       "          (qkv): Linear(in_features=768, out_features=2304, bias=True)\n",
       "          (proj): Linear(in_features=768, out_features=768, bias=True)\n",
       "          (proj_drop): Dropout(p=0.0, inplace=False)\n",
       "          (attn_drop): Dropout(p=0.0, inplace=False)\n",
       "        )\n",
       "        (temporal_norm1): LayerNorm((768,), eps=1e-06, elementwise_affine=True)\n",
       "        (temporal_attn): Attention(\n",
       "          (qkv): Linear(in_features=768, out_features=2304, bias=True)\n",
       "          (proj): Linear(in_features=768, out_features=768, bias=True)\n",
       "          (proj_drop): Dropout(p=0.0, inplace=False)\n",
       "          (attn_drop): Dropout(p=0.0, inplace=False)\n",
       "        )\n",
       "        (temporal_fc): Linear(in_features=768, out_features=768, bias=True)\n",
       "        (drop_path): DropPath()\n",
       "        (norm2): LayerNorm((768,), eps=1e-06, elementwise_affine=True)\n",
       "        (mlp): Mlp(\n",
       "          (fc1): Linear(in_features=768, out_features=3072, bias=True)\n",
       "          (act): GELU(approximate='none')\n",
       "          (fc2): Linear(in_features=3072, out_features=768, bias=True)\n",
       "          (drop): Dropout(p=0.0, inplace=False)\n",
       "        )\n",
       "      )\n",
       "      (7): Block(\n",
       "        (norm1): LayerNorm((768,), eps=1e-06, elementwise_affine=True)\n",
       "        (attn): Attention(\n",
       "          (qkv): Linear(in_features=768, out_features=2304, bias=True)\n",
       "          (proj): Linear(in_features=768, out_features=768, bias=True)\n",
       "          (proj_drop): Dropout(p=0.0, inplace=False)\n",
       "          (attn_drop): Dropout(p=0.0, inplace=False)\n",
       "        )\n",
       "        (temporal_norm1): LayerNorm((768,), eps=1e-06, elementwise_affine=True)\n",
       "        (temporal_attn): Attention(\n",
       "          (qkv): Linear(in_features=768, out_features=2304, bias=True)\n",
       "          (proj): Linear(in_features=768, out_features=768, bias=True)\n",
       "          (proj_drop): Dropout(p=0.0, inplace=False)\n",
       "          (attn_drop): Dropout(p=0.0, inplace=False)\n",
       "        )\n",
       "        (temporal_fc): Linear(in_features=768, out_features=768, bias=True)\n",
       "        (drop_path): DropPath()\n",
       "        (norm2): LayerNorm((768,), eps=1e-06, elementwise_affine=True)\n",
       "        (mlp): Mlp(\n",
       "          (fc1): Linear(in_features=768, out_features=3072, bias=True)\n",
       "          (act): GELU(approximate='none')\n",
       "          (fc2): Linear(in_features=3072, out_features=768, bias=True)\n",
       "          (drop): Dropout(p=0.0, inplace=False)\n",
       "        )\n",
       "      )\n",
       "      (8): Block(\n",
       "        (norm1): LayerNorm((768,), eps=1e-06, elementwise_affine=True)\n",
       "        (attn): Attention(\n",
       "          (qkv): Linear(in_features=768, out_features=2304, bias=True)\n",
       "          (proj): Linear(in_features=768, out_features=768, bias=True)\n",
       "          (proj_drop): Dropout(p=0.0, inplace=False)\n",
       "          (attn_drop): Dropout(p=0.0, inplace=False)\n",
       "        )\n",
       "        (temporal_norm1): LayerNorm((768,), eps=1e-06, elementwise_affine=True)\n",
       "        (temporal_attn): Attention(\n",
       "          (qkv): Linear(in_features=768, out_features=2304, bias=True)\n",
       "          (proj): Linear(in_features=768, out_features=768, bias=True)\n",
       "          (proj_drop): Dropout(p=0.0, inplace=False)\n",
       "          (attn_drop): Dropout(p=0.0, inplace=False)\n",
       "        )\n",
       "        (temporal_fc): Linear(in_features=768, out_features=768, bias=True)\n",
       "        (drop_path): DropPath()\n",
       "        (norm2): LayerNorm((768,), eps=1e-06, elementwise_affine=True)\n",
       "        (mlp): Mlp(\n",
       "          (fc1): Linear(in_features=768, out_features=3072, bias=True)\n",
       "          (act): GELU(approximate='none')\n",
       "          (fc2): Linear(in_features=3072, out_features=768, bias=True)\n",
       "          (drop): Dropout(p=0.0, inplace=False)\n",
       "        )\n",
       "      )\n",
       "      (9): Block(\n",
       "        (norm1): LayerNorm((768,), eps=1e-06, elementwise_affine=True)\n",
       "        (attn): Attention(\n",
       "          (qkv): Linear(in_features=768, out_features=2304, bias=True)\n",
       "          (proj): Linear(in_features=768, out_features=768, bias=True)\n",
       "          (proj_drop): Dropout(p=0.0, inplace=False)\n",
       "          (attn_drop): Dropout(p=0.0, inplace=False)\n",
       "        )\n",
       "        (temporal_norm1): LayerNorm((768,), eps=1e-06, elementwise_affine=True)\n",
       "        (temporal_attn): Attention(\n",
       "          (qkv): Linear(in_features=768, out_features=2304, bias=True)\n",
       "          (proj): Linear(in_features=768, out_features=768, bias=True)\n",
       "          (proj_drop): Dropout(p=0.0, inplace=False)\n",
       "          (attn_drop): Dropout(p=0.0, inplace=False)\n",
       "        )\n",
       "        (temporal_fc): Linear(in_features=768, out_features=768, bias=True)\n",
       "        (drop_path): DropPath()\n",
       "        (norm2): LayerNorm((768,), eps=1e-06, elementwise_affine=True)\n",
       "        (mlp): Mlp(\n",
       "          (fc1): Linear(in_features=768, out_features=3072, bias=True)\n",
       "          (act): GELU(approximate='none')\n",
       "          (fc2): Linear(in_features=3072, out_features=768, bias=True)\n",
       "          (drop): Dropout(p=0.0, inplace=False)\n",
       "        )\n",
       "      )\n",
       "      (10): Block(\n",
       "        (norm1): LayerNorm((768,), eps=1e-06, elementwise_affine=True)\n",
       "        (attn): Attention(\n",
       "          (qkv): Linear(in_features=768, out_features=2304, bias=True)\n",
       "          (proj): Linear(in_features=768, out_features=768, bias=True)\n",
       "          (proj_drop): Dropout(p=0.0, inplace=False)\n",
       "          (attn_drop): Dropout(p=0.0, inplace=False)\n",
       "        )\n",
       "        (temporal_norm1): LayerNorm((768,), eps=1e-06, elementwise_affine=True)\n",
       "        (temporal_attn): Attention(\n",
       "          (qkv): Linear(in_features=768, out_features=2304, bias=True)\n",
       "          (proj): Linear(in_features=768, out_features=768, bias=True)\n",
       "          (proj_drop): Dropout(p=0.0, inplace=False)\n",
       "          (attn_drop): Dropout(p=0.0, inplace=False)\n",
       "        )\n",
       "        (temporal_fc): Linear(in_features=768, out_features=768, bias=True)\n",
       "        (drop_path): DropPath()\n",
       "        (norm2): LayerNorm((768,), eps=1e-06, elementwise_affine=True)\n",
       "        (mlp): Mlp(\n",
       "          (fc1): Linear(in_features=768, out_features=3072, bias=True)\n",
       "          (act): GELU(approximate='none')\n",
       "          (fc2): Linear(in_features=3072, out_features=768, bias=True)\n",
       "          (drop): Dropout(p=0.0, inplace=False)\n",
       "        )\n",
       "      )\n",
       "      (11): Block(\n",
       "        (norm1): LayerNorm((768,), eps=1e-06, elementwise_affine=True)\n",
       "        (attn): Attention(\n",
       "          (qkv): Linear(in_features=768, out_features=2304, bias=True)\n",
       "          (proj): Linear(in_features=768, out_features=768, bias=True)\n",
       "          (proj_drop): Dropout(p=0.0, inplace=False)\n",
       "          (attn_drop): Dropout(p=0.0, inplace=False)\n",
       "        )\n",
       "        (temporal_norm1): LayerNorm((768,), eps=1e-06, elementwise_affine=True)\n",
       "        (temporal_attn): Attention(\n",
       "          (qkv): Linear(in_features=768, out_features=2304, bias=True)\n",
       "          (proj): Linear(in_features=768, out_features=768, bias=True)\n",
       "          (proj_drop): Dropout(p=0.0, inplace=False)\n",
       "          (attn_drop): Dropout(p=0.0, inplace=False)\n",
       "        )\n",
       "        (temporal_fc): Linear(in_features=768, out_features=768, bias=True)\n",
       "        (drop_path): DropPath()\n",
       "        (norm2): LayerNorm((768,), eps=1e-06, elementwise_affine=True)\n",
       "        (mlp): Mlp(\n",
       "          (fc1): Linear(in_features=768, out_features=3072, bias=True)\n",
       "          (act): GELU(approximate='none')\n",
       "          (fc2): Linear(in_features=3072, out_features=768, bias=True)\n",
       "          (drop): Dropout(p=0.0, inplace=False)\n",
       "        )\n",
       "      )\n",
       "    )\n",
       "    (norm): LayerNorm((768,), eps=1e-06, elementwise_affine=True)\n",
       "    (head): Linear(in_features=768, out_features=1, bias=True)\n",
       "  )\n",
       ")"
      ]
     },
     "execution_count": 9,
     "metadata": {},
     "output_type": "execute_result"
    }
   ],
   "source": [
    "model"
   ]
  },
  {
   "cell_type": "markdown",
   "metadata": {
    "id": "oY6UmNiMCmGJ"
   },
   "source": [
    "#Train function"
   ]
  },
  {
   "cell_type": "code",
   "execution_count": 10,
   "metadata": {
    "executionInfo": {
     "elapsed": 8,
     "status": "ok",
     "timestamp": 1677833356688,
     "user": {
      "displayName": "Hanene Fatima Zohra BRACHEMI MEFTAH",
      "userId": "05471859942716114157"
     },
     "user_tz": -60
    },
    "id": "oto1I6FLCe3X"
   },
   "outputs": [],
   "source": [
    "from torch.optim.lr_scheduler import ReduceLROnPlateau \n",
    "import time\n",
    "import copy\n",
    "from tqdm import tqdm"
   ]
  },
  {
   "cell_type": "code",
   "execution_count": 10,
   "metadata": {
    "executionInfo": {
     "elapsed": 807,
     "status": "ok",
     "timestamp": 1677833357490,
     "user": {
      "displayName": "Hanene Fatima Zohra BRACHEMI MEFTAH",
      "userId": "05471859942716114157"
     },
     "user_tz": -60
    },
    "id": "Yrkjj5O_Cnzj"
   },
   "outputs": [],
   "source": [
    "def train_model(model, dataloaders,criterion, optimizer,norm=100,debut=0, num_epochs=25, is_inception=False,scheduler=None):\n",
    "    since = time.time()\n",
    "\n",
    "    val_loss_history = []\n",
    "    loss_history = []\n",
    "    best_loss=99999999\n",
    "    best_model_wts = copy.deepcopy(model.state_dict())\n",
    "\n",
    "    for epoch in range(debut,num_epochs):\n",
    "        print('Epoch {}/{}'.format(epoch, num_epochs - 1))\n",
    "        print('-' * 10)\n",
    "        \n",
    "        # Each epoch has a training and validation phase\n",
    "        for phase in ['train']:\n",
    "            \n",
    "            if phase == 'train':\n",
    "                model.train()  # Set model to training mode\n",
    "            else:\n",
    "                model.eval()   # Set model to evaluate mode\n",
    "\n",
    "            running_loss = 0.0\n",
    "\n",
    "            # Iterate over data.\n",
    "            for batch_idx, (inputs, labels) in tqdm(enumerate(dataloaders[phase])):\n",
    "                inputs = inputs.to(device, non_blocking=True)\n",
    "                labels = (labels.to(device))/norm\n",
    "\n",
    "                # zero the parameter gradients\n",
    "                optimizer.zero_grad()\n",
    "\n",
    "                # forward\n",
    "                # track history if only in train\n",
    "                with torch.set_grad_enabled(phase == 'train'):\n",
    "                    if is_inception and phase == 'train':\n",
    "                        outputs, aux_outputs = model(inputs)\n",
    "                        loss1 = criterion(outputs, labels)\n",
    "                        loss2 = criterion(aux_outputs, labels)\n",
    "                        loss = loss1 + 0.4*loss2\n",
    "                    else:\n",
    "                        outputs = model(inputs)\n",
    "                        loss = criterion(outputs, labels)\n",
    "                        action_loss=loss\n",
    "                    preds = outputs\n",
    "\n",
    "                    # backward + optimize only if in training phase\n",
    "                    if phase == 'train':\n",
    "                        action_loss.backward()\n",
    "                        optimizer.step()\n",
    "\n",
    "                # statistics\n",
    "                running_loss += loss.item() * inputs.size(0)\n",
    "\n",
    "            epoch_loss = running_loss / len(dataloaders[phase].dataset)\n",
    "            loss_history.append(epoch_loss)\n",
    "\n",
    "            if batch_idx % 10 == 0:\n",
    "                print('Train Epoch: {} [{}/{} ({:.0f}%)]\\tLoss: {:.6f}'.format(\n",
    "                epoch, batch_idx * len(inputs), len(dataloaders[phase]),\n",
    "                100. * batch_idx / len(dataloaders[phase]), loss.item()))\n",
    "\n",
    "\n",
    "\n",
    "            print('{} Loss: {:.4f} '.format(phase, epoch_loss))\n",
    "\n",
    "            # deep copy the model\n",
    "            if phase == 'val' and epoch_loss < best_loss:\n",
    "                best_loss = epoch_loss\n",
    "                best_model_wts = copy.deepcopy(model.state_dict())\n",
    "            if phase == 'val':\n",
    "                val_loss_history.append(epoch_loss)\n",
    "            \n",
    "        scheduler.step(loss_history[-1])\n",
    "        torch.save(model.state_dict(), 'checkpoint.pth')\n",
    "    time_elapsed = time.time() - since\n",
    "    print('Training complete in {:.0f}m {:.0f}s'.format(time_elapsed // 60, time_elapsed % 60))\n",
    "    print('Best val loss: {:4f}'.format(best_loss))\n",
    "    vloss_history={}\n",
    "    vloss_history['val']=val_loss_history\n",
    "    vloss_history['loss']=loss_history\n",
    "   \n",
    "    return model, vloss_history"
   ]
  },
  {
   "cell_type": "code",
   "execution_count": 11,
   "metadata": {
    "executionInfo": {
     "elapsed": 3719,
     "status": "ok",
     "timestamp": 1677833361614,
     "user": {
      "displayName": "Hanene Fatima Zohra BRACHEMI MEFTAH",
      "userId": "05471859942716114157"
     },
     "user_tz": -60
    },
    "id": "3JvLHD8FCsqu"
   },
   "outputs": [],
   "source": [
    "device = torch.device(\"cuda\")\n",
    "if torch.cuda.is_available():\n",
    "    model.cuda()"
   ]
  },
  {
   "cell_type": "code",
   "execution_count": 11,
   "metadata": {},
   "outputs": [
    {
     "data": {
      "text/plain": [
       "TimeSformer(\n",
       "  (model): VisionTransformer(\n",
       "    (dropout): Dropout(p=0.0, inplace=False)\n",
       "    (patch_embed): PatchEmbed(\n",
       "      (proj): Conv1d(2048, 768, kernel_size=(1,), stride=(1,))\n",
       "    )\n",
       "    (pos_drop): Dropout(p=0.0, inplace=False)\n",
       "    (time_drop): Dropout(p=0.0, inplace=False)\n",
       "    (blocks): ModuleList(\n",
       "      (0): Block(\n",
       "        (norm1): LayerNorm((768,), eps=1e-06, elementwise_affine=True)\n",
       "        (attn): Attention(\n",
       "          (qkv): Linear(in_features=768, out_features=2304, bias=True)\n",
       "          (proj): Linear(in_features=768, out_features=768, bias=True)\n",
       "          (proj_drop): Dropout(p=0.0, inplace=False)\n",
       "          (attn_drop): Dropout(p=0.0, inplace=False)\n",
       "        )\n",
       "        (temporal_norm1): LayerNorm((768,), eps=1e-06, elementwise_affine=True)\n",
       "        (temporal_attn): Attention(\n",
       "          (qkv): Linear(in_features=768, out_features=2304, bias=True)\n",
       "          (proj): Linear(in_features=768, out_features=768, bias=True)\n",
       "          (proj_drop): Dropout(p=0.0, inplace=False)\n",
       "          (attn_drop): Dropout(p=0.0, inplace=False)\n",
       "        )\n",
       "        (temporal_fc): Linear(in_features=768, out_features=768, bias=True)\n",
       "        (drop_path): Identity()\n",
       "        (norm2): LayerNorm((768,), eps=1e-06, elementwise_affine=True)\n",
       "        (mlp): Mlp(\n",
       "          (fc1): Linear(in_features=768, out_features=3072, bias=True)\n",
       "          (act): GELU(approximate='none')\n",
       "          (fc2): Linear(in_features=3072, out_features=768, bias=True)\n",
       "          (drop): Dropout(p=0.0, inplace=False)\n",
       "        )\n",
       "      )\n",
       "      (1): Block(\n",
       "        (norm1): LayerNorm((768,), eps=1e-06, elementwise_affine=True)\n",
       "        (attn): Attention(\n",
       "          (qkv): Linear(in_features=768, out_features=2304, bias=True)\n",
       "          (proj): Linear(in_features=768, out_features=768, bias=True)\n",
       "          (proj_drop): Dropout(p=0.0, inplace=False)\n",
       "          (attn_drop): Dropout(p=0.0, inplace=False)\n",
       "        )\n",
       "        (temporal_norm1): LayerNorm((768,), eps=1e-06, elementwise_affine=True)\n",
       "        (temporal_attn): Attention(\n",
       "          (qkv): Linear(in_features=768, out_features=2304, bias=True)\n",
       "          (proj): Linear(in_features=768, out_features=768, bias=True)\n",
       "          (proj_drop): Dropout(p=0.0, inplace=False)\n",
       "          (attn_drop): Dropout(p=0.0, inplace=False)\n",
       "        )\n",
       "        (temporal_fc): Linear(in_features=768, out_features=768, bias=True)\n",
       "        (drop_path): DropPath()\n",
       "        (norm2): LayerNorm((768,), eps=1e-06, elementwise_affine=True)\n",
       "        (mlp): Mlp(\n",
       "          (fc1): Linear(in_features=768, out_features=3072, bias=True)\n",
       "          (act): GELU(approximate='none')\n",
       "          (fc2): Linear(in_features=3072, out_features=768, bias=True)\n",
       "          (drop): Dropout(p=0.0, inplace=False)\n",
       "        )\n",
       "      )\n",
       "      (2): Block(\n",
       "        (norm1): LayerNorm((768,), eps=1e-06, elementwise_affine=True)\n",
       "        (attn): Attention(\n",
       "          (qkv): Linear(in_features=768, out_features=2304, bias=True)\n",
       "          (proj): Linear(in_features=768, out_features=768, bias=True)\n",
       "          (proj_drop): Dropout(p=0.0, inplace=False)\n",
       "          (attn_drop): Dropout(p=0.0, inplace=False)\n",
       "        )\n",
       "        (temporal_norm1): LayerNorm((768,), eps=1e-06, elementwise_affine=True)\n",
       "        (temporal_attn): Attention(\n",
       "          (qkv): Linear(in_features=768, out_features=2304, bias=True)\n",
       "          (proj): Linear(in_features=768, out_features=768, bias=True)\n",
       "          (proj_drop): Dropout(p=0.0, inplace=False)\n",
       "          (attn_drop): Dropout(p=0.0, inplace=False)\n",
       "        )\n",
       "        (temporal_fc): Linear(in_features=768, out_features=768, bias=True)\n",
       "        (drop_path): DropPath()\n",
       "        (norm2): LayerNorm((768,), eps=1e-06, elementwise_affine=True)\n",
       "        (mlp): Mlp(\n",
       "          (fc1): Linear(in_features=768, out_features=3072, bias=True)\n",
       "          (act): GELU(approximate='none')\n",
       "          (fc2): Linear(in_features=3072, out_features=768, bias=True)\n",
       "          (drop): Dropout(p=0.0, inplace=False)\n",
       "        )\n",
       "      )\n",
       "      (3): Block(\n",
       "        (norm1): LayerNorm((768,), eps=1e-06, elementwise_affine=True)\n",
       "        (attn): Attention(\n",
       "          (qkv): Linear(in_features=768, out_features=2304, bias=True)\n",
       "          (proj): Linear(in_features=768, out_features=768, bias=True)\n",
       "          (proj_drop): Dropout(p=0.0, inplace=False)\n",
       "          (attn_drop): Dropout(p=0.0, inplace=False)\n",
       "        )\n",
       "        (temporal_norm1): LayerNorm((768,), eps=1e-06, elementwise_affine=True)\n",
       "        (temporal_attn): Attention(\n",
       "          (qkv): Linear(in_features=768, out_features=2304, bias=True)\n",
       "          (proj): Linear(in_features=768, out_features=768, bias=True)\n",
       "          (proj_drop): Dropout(p=0.0, inplace=False)\n",
       "          (attn_drop): Dropout(p=0.0, inplace=False)\n",
       "        )\n",
       "        (temporal_fc): Linear(in_features=768, out_features=768, bias=True)\n",
       "        (drop_path): DropPath()\n",
       "        (norm2): LayerNorm((768,), eps=1e-06, elementwise_affine=True)\n",
       "        (mlp): Mlp(\n",
       "          (fc1): Linear(in_features=768, out_features=3072, bias=True)\n",
       "          (act): GELU(approximate='none')\n",
       "          (fc2): Linear(in_features=3072, out_features=768, bias=True)\n",
       "          (drop): Dropout(p=0.0, inplace=False)\n",
       "        )\n",
       "      )\n",
       "      (4): Block(\n",
       "        (norm1): LayerNorm((768,), eps=1e-06, elementwise_affine=True)\n",
       "        (attn): Attention(\n",
       "          (qkv): Linear(in_features=768, out_features=2304, bias=True)\n",
       "          (proj): Linear(in_features=768, out_features=768, bias=True)\n",
       "          (proj_drop): Dropout(p=0.0, inplace=False)\n",
       "          (attn_drop): Dropout(p=0.0, inplace=False)\n",
       "        )\n",
       "        (temporal_norm1): LayerNorm((768,), eps=1e-06, elementwise_affine=True)\n",
       "        (temporal_attn): Attention(\n",
       "          (qkv): Linear(in_features=768, out_features=2304, bias=True)\n",
       "          (proj): Linear(in_features=768, out_features=768, bias=True)\n",
       "          (proj_drop): Dropout(p=0.0, inplace=False)\n",
       "          (attn_drop): Dropout(p=0.0, inplace=False)\n",
       "        )\n",
       "        (temporal_fc): Linear(in_features=768, out_features=768, bias=True)\n",
       "        (drop_path): DropPath()\n",
       "        (norm2): LayerNorm((768,), eps=1e-06, elementwise_affine=True)\n",
       "        (mlp): Mlp(\n",
       "          (fc1): Linear(in_features=768, out_features=3072, bias=True)\n",
       "          (act): GELU(approximate='none')\n",
       "          (fc2): Linear(in_features=3072, out_features=768, bias=True)\n",
       "          (drop): Dropout(p=0.0, inplace=False)\n",
       "        )\n",
       "      )\n",
       "      (5): Block(\n",
       "        (norm1): LayerNorm((768,), eps=1e-06, elementwise_affine=True)\n",
       "        (attn): Attention(\n",
       "          (qkv): Linear(in_features=768, out_features=2304, bias=True)\n",
       "          (proj): Linear(in_features=768, out_features=768, bias=True)\n",
       "          (proj_drop): Dropout(p=0.0, inplace=False)\n",
       "          (attn_drop): Dropout(p=0.0, inplace=False)\n",
       "        )\n",
       "        (temporal_norm1): LayerNorm((768,), eps=1e-06, elementwise_affine=True)\n",
       "        (temporal_attn): Attention(\n",
       "          (qkv): Linear(in_features=768, out_features=2304, bias=True)\n",
       "          (proj): Linear(in_features=768, out_features=768, bias=True)\n",
       "          (proj_drop): Dropout(p=0.0, inplace=False)\n",
       "          (attn_drop): Dropout(p=0.0, inplace=False)\n",
       "        )\n",
       "        (temporal_fc): Linear(in_features=768, out_features=768, bias=True)\n",
       "        (drop_path): DropPath()\n",
       "        (norm2): LayerNorm((768,), eps=1e-06, elementwise_affine=True)\n",
       "        (mlp): Mlp(\n",
       "          (fc1): Linear(in_features=768, out_features=3072, bias=True)\n",
       "          (act): GELU(approximate='none')\n",
       "          (fc2): Linear(in_features=3072, out_features=768, bias=True)\n",
       "          (drop): Dropout(p=0.0, inplace=False)\n",
       "        )\n",
       "      )\n",
       "      (6): Block(\n",
       "        (norm1): LayerNorm((768,), eps=1e-06, elementwise_affine=True)\n",
       "        (attn): Attention(\n",
       "          (qkv): Linear(in_features=768, out_features=2304, bias=True)\n",
       "          (proj): Linear(in_features=768, out_features=768, bias=True)\n",
       "          (proj_drop): Dropout(p=0.0, inplace=False)\n",
       "          (attn_drop): Dropout(p=0.0, inplace=False)\n",
       "        )\n",
       "        (temporal_norm1): LayerNorm((768,), eps=1e-06, elementwise_affine=True)\n",
       "        (temporal_attn): Attention(\n",
       "          (qkv): Linear(in_features=768, out_features=2304, bias=True)\n",
       "          (proj): Linear(in_features=768, out_features=768, bias=True)\n",
       "          (proj_drop): Dropout(p=0.0, inplace=False)\n",
       "          (attn_drop): Dropout(p=0.0, inplace=False)\n",
       "        )\n",
       "        (temporal_fc): Linear(in_features=768, out_features=768, bias=True)\n",
       "        (drop_path): DropPath()\n",
       "        (norm2): LayerNorm((768,), eps=1e-06, elementwise_affine=True)\n",
       "        (mlp): Mlp(\n",
       "          (fc1): Linear(in_features=768, out_features=3072, bias=True)\n",
       "          (act): GELU(approximate='none')\n",
       "          (fc2): Linear(in_features=3072, out_features=768, bias=True)\n",
       "          (drop): Dropout(p=0.0, inplace=False)\n",
       "        )\n",
       "      )\n",
       "      (7): Block(\n",
       "        (norm1): LayerNorm((768,), eps=1e-06, elementwise_affine=True)\n",
       "        (attn): Attention(\n",
       "          (qkv): Linear(in_features=768, out_features=2304, bias=True)\n",
       "          (proj): Linear(in_features=768, out_features=768, bias=True)\n",
       "          (proj_drop): Dropout(p=0.0, inplace=False)\n",
       "          (attn_drop): Dropout(p=0.0, inplace=False)\n",
       "        )\n",
       "        (temporal_norm1): LayerNorm((768,), eps=1e-06, elementwise_affine=True)\n",
       "        (temporal_attn): Attention(\n",
       "          (qkv): Linear(in_features=768, out_features=2304, bias=True)\n",
       "          (proj): Linear(in_features=768, out_features=768, bias=True)\n",
       "          (proj_drop): Dropout(p=0.0, inplace=False)\n",
       "          (attn_drop): Dropout(p=0.0, inplace=False)\n",
       "        )\n",
       "        (temporal_fc): Linear(in_features=768, out_features=768, bias=True)\n",
       "        (drop_path): DropPath()\n",
       "        (norm2): LayerNorm((768,), eps=1e-06, elementwise_affine=True)\n",
       "        (mlp): Mlp(\n",
       "          (fc1): Linear(in_features=768, out_features=3072, bias=True)\n",
       "          (act): GELU(approximate='none')\n",
       "          (fc2): Linear(in_features=3072, out_features=768, bias=True)\n",
       "          (drop): Dropout(p=0.0, inplace=False)\n",
       "        )\n",
       "      )\n",
       "      (8): Block(\n",
       "        (norm1): LayerNorm((768,), eps=1e-06, elementwise_affine=True)\n",
       "        (attn): Attention(\n",
       "          (qkv): Linear(in_features=768, out_features=2304, bias=True)\n",
       "          (proj): Linear(in_features=768, out_features=768, bias=True)\n",
       "          (proj_drop): Dropout(p=0.0, inplace=False)\n",
       "          (attn_drop): Dropout(p=0.0, inplace=False)\n",
       "        )\n",
       "        (temporal_norm1): LayerNorm((768,), eps=1e-06, elementwise_affine=True)\n",
       "        (temporal_attn): Attention(\n",
       "          (qkv): Linear(in_features=768, out_features=2304, bias=True)\n",
       "          (proj): Linear(in_features=768, out_features=768, bias=True)\n",
       "          (proj_drop): Dropout(p=0.0, inplace=False)\n",
       "          (attn_drop): Dropout(p=0.0, inplace=False)\n",
       "        )\n",
       "        (temporal_fc): Linear(in_features=768, out_features=768, bias=True)\n",
       "        (drop_path): DropPath()\n",
       "        (norm2): LayerNorm((768,), eps=1e-06, elementwise_affine=True)\n",
       "        (mlp): Mlp(\n",
       "          (fc1): Linear(in_features=768, out_features=3072, bias=True)\n",
       "          (act): GELU(approximate='none')\n",
       "          (fc2): Linear(in_features=3072, out_features=768, bias=True)\n",
       "          (drop): Dropout(p=0.0, inplace=False)\n",
       "        )\n",
       "      )\n",
       "      (9): Block(\n",
       "        (norm1): LayerNorm((768,), eps=1e-06, elementwise_affine=True)\n",
       "        (attn): Attention(\n",
       "          (qkv): Linear(in_features=768, out_features=2304, bias=True)\n",
       "          (proj): Linear(in_features=768, out_features=768, bias=True)\n",
       "          (proj_drop): Dropout(p=0.0, inplace=False)\n",
       "          (attn_drop): Dropout(p=0.0, inplace=False)\n",
       "        )\n",
       "        (temporal_norm1): LayerNorm((768,), eps=1e-06, elementwise_affine=True)\n",
       "        (temporal_attn): Attention(\n",
       "          (qkv): Linear(in_features=768, out_features=2304, bias=True)\n",
       "          (proj): Linear(in_features=768, out_features=768, bias=True)\n",
       "          (proj_drop): Dropout(p=0.0, inplace=False)\n",
       "          (attn_drop): Dropout(p=0.0, inplace=False)\n",
       "        )\n",
       "        (temporal_fc): Linear(in_features=768, out_features=768, bias=True)\n",
       "        (drop_path): DropPath()\n",
       "        (norm2): LayerNorm((768,), eps=1e-06, elementwise_affine=True)\n",
       "        (mlp): Mlp(\n",
       "          (fc1): Linear(in_features=768, out_features=3072, bias=True)\n",
       "          (act): GELU(approximate='none')\n",
       "          (fc2): Linear(in_features=3072, out_features=768, bias=True)\n",
       "          (drop): Dropout(p=0.0, inplace=False)\n",
       "        )\n",
       "      )\n",
       "      (10): Block(\n",
       "        (norm1): LayerNorm((768,), eps=1e-06, elementwise_affine=True)\n",
       "        (attn): Attention(\n",
       "          (qkv): Linear(in_features=768, out_features=2304, bias=True)\n",
       "          (proj): Linear(in_features=768, out_features=768, bias=True)\n",
       "          (proj_drop): Dropout(p=0.0, inplace=False)\n",
       "          (attn_drop): Dropout(p=0.0, inplace=False)\n",
       "        )\n",
       "        (temporal_norm1): LayerNorm((768,), eps=1e-06, elementwise_affine=True)\n",
       "        (temporal_attn): Attention(\n",
       "          (qkv): Linear(in_features=768, out_features=2304, bias=True)\n",
       "          (proj): Linear(in_features=768, out_features=768, bias=True)\n",
       "          (proj_drop): Dropout(p=0.0, inplace=False)\n",
       "          (attn_drop): Dropout(p=0.0, inplace=False)\n",
       "        )\n",
       "        (temporal_fc): Linear(in_features=768, out_features=768, bias=True)\n",
       "        (drop_path): DropPath()\n",
       "        (norm2): LayerNorm((768,), eps=1e-06, elementwise_affine=True)\n",
       "        (mlp): Mlp(\n",
       "          (fc1): Linear(in_features=768, out_features=3072, bias=True)\n",
       "          (act): GELU(approximate='none')\n",
       "          (fc2): Linear(in_features=3072, out_features=768, bias=True)\n",
       "          (drop): Dropout(p=0.0, inplace=False)\n",
       "        )\n",
       "      )\n",
       "      (11): Block(\n",
       "        (norm1): LayerNorm((768,), eps=1e-06, elementwise_affine=True)\n",
       "        (attn): Attention(\n",
       "          (qkv): Linear(in_features=768, out_features=2304, bias=True)\n",
       "          (proj): Linear(in_features=768, out_features=768, bias=True)\n",
       "          (proj_drop): Dropout(p=0.0, inplace=False)\n",
       "          (attn_drop): Dropout(p=0.0, inplace=False)\n",
       "        )\n",
       "        (temporal_norm1): LayerNorm((768,), eps=1e-06, elementwise_affine=True)\n",
       "        (temporal_attn): Attention(\n",
       "          (qkv): Linear(in_features=768, out_features=2304, bias=True)\n",
       "          (proj): Linear(in_features=768, out_features=768, bias=True)\n",
       "          (proj_drop): Dropout(p=0.0, inplace=False)\n",
       "          (attn_drop): Dropout(p=0.0, inplace=False)\n",
       "        )\n",
       "        (temporal_fc): Linear(in_features=768, out_features=768, bias=True)\n",
       "        (drop_path): DropPath()\n",
       "        (norm2): LayerNorm((768,), eps=1e-06, elementwise_affine=True)\n",
       "        (mlp): Mlp(\n",
       "          (fc1): Linear(in_features=768, out_features=3072, bias=True)\n",
       "          (act): GELU(approximate='none')\n",
       "          (fc2): Linear(in_features=3072, out_features=768, bias=True)\n",
       "          (drop): Dropout(p=0.0, inplace=False)\n",
       "        )\n",
       "      )\n",
       "    )\n",
       "    (norm): LayerNorm((768,), eps=1e-06, elementwise_affine=True)\n",
       "    (head): Linear(in_features=768, out_features=1, bias=True)\n",
       "  )\n",
       ")"
      ]
     },
     "execution_count": 11,
     "metadata": {},
     "output_type": "execute_result"
    }
   ],
   "source": [
    "model.cpu()"
   ]
  },
  {
   "cell_type": "markdown",
   "metadata": {
    "id": "8EoOFz-sCyek"
   },
   "source": [
    "#Train"
   ]
  },
  {
   "cell_type": "code",
   "execution_count": 26,
   "metadata": {
    "executionInfo": {
     "elapsed": 12,
     "status": "ok",
     "timestamp": 1677833361615,
     "user": {
      "displayName": "Hanene Fatima Zohra BRACHEMI MEFTAH",
      "userId": "05471859942716114157"
     },
     "user_tz": -60
    },
    "id": "8xvS-tT7Cvt1"
   },
   "outputs": [],
   "source": [
    "num_epochs =  30\n",
    "lr = 0.000001"
   ]
  },
  {
   "cell_type": "code",
   "execution_count": 27,
   "metadata": {
    "executionInfo": {
     "elapsed": 10,
     "status": "ok",
     "timestamp": 1677833361616,
     "user": {
      "displayName": "Hanene Fatima Zohra BRACHEMI MEFTAH",
      "userId": "05471859942716114157"
     },
     "user_tz": -60
    },
    "id": "MgX4xRH0C35p"
   },
   "outputs": [],
   "source": [
    "model=model.float()\n",
    "params_to_update=[]\n",
    "for name,param in model.named_parameters():\n",
    "        if param.requires_grad == True:\n",
    "            params_to_update.append(param)\n",
    "            nn.init.normal_(param, mean=0.0, std=0.5)\n",
    "opt_func = torch.optim.Adam(params_to_update,lr=lr)\n",
    "scheduler = ReduceLROnPlateau(opt_func, 'min' ,patience=5,verbose=True)\n",
    "criterion = nn.MSELoss()"
   ]
  },
  {
   "cell_type": "code",
   "execution_count": 12,
   "metadata": {},
   "outputs": [],
   "source": [
    "device = torch.device('cpu')"
   ]
  },
  {
   "cell_type": "code",
   "execution_count": 13,
   "metadata": {},
   "outputs": [],
   "source": [
    "model = model.cpu()"
   ]
  },
  {
   "cell_type": "code",
   "execution_count": 37,
   "metadata": {
    "colab": {
     "base_uri": "https://localhost:8080/"
    },
    "executionInfo": {
     "elapsed": 8687,
     "status": "ok",
     "timestamp": 1677833370295,
     "user": {
      "displayName": "Hanene Fatima Zohra BRACHEMI MEFTAH",
      "userId": "05471859942716114157"
     },
     "user_tz": -60
    },
    "id": "503h3FmgU0rq",
    "outputId": "0a708a71-538a-4543-d01a-5d50f7a93dc6"
   },
   "outputs": [
    {
     "data": {
      "text/plain": [
       "<All keys matched successfully>"
      ]
     },
     "execution_count": 37,
     "metadata": {},
     "output_type": "execute_result"
    }
   ],
   "source": [
    "model.load_state_dict(torch.load('checkpoint2.pth',map_location=device))"
   ]
  },
  {
   "cell_type": "code",
   "execution_count": 29,
   "metadata": {
    "colab": {
     "base_uri": "https://localhost:8080/"
    },
    "executionInfo": {
     "elapsed": 394013,
     "status": "ok",
     "timestamp": 1677841532362,
     "user": {
      "displayName": "Hanene Fatima Zohra BRACHEMI MEFTAH",
      "userId": "05471859942716114157"
     },
     "user_tz": -60
    },
    "id": "LKBarXm_C6EV",
    "outputId": "4b2f38ae-8a27-49d6-9460-6372ee8b61cf",
    "scrolled": true
   },
   "outputs": [
    {
     "name": "stdout",
     "output_type": "stream",
     "text": [
      "Epoch 0/29\n",
      "----------\n"
     ]
    },
    {
     "name": "stderr",
     "output_type": "stream",
     "text": [
      "0it [00:00, ?it/s]"
     ]
    },
    {
     "name": "stdout",
     "output_type": "stream",
     "text": [
      "torch.Size([2048, 8, 24])\n"
     ]
    },
    {
     "name": "stderr",
     "output_type": "stream",
     "text": [
      "\n"
     ]
    },
    {
     "ename": "OutOfMemoryError",
     "evalue": "CUDA out of memory. Tried to allocate 20.00 MiB (GPU 0; 10.75 GiB total capacity; 3.33 GiB already allocated; 17.00 MiB free; 3.65 GiB reserved in total by PyTorch) If reserved memory is >> allocated memory try setting max_split_size_mb to avoid fragmentation.  See documentation for Memory Management and PYTORCH_CUDA_ALLOC_CONF",
     "output_type": "error",
     "traceback": [
      "\u001b[0;31m---------------------------------------------------------------------------\u001b[0m",
      "\u001b[0;31mOutOfMemoryError\u001b[0m                          Traceback (most recent call last)",
      "Cell \u001b[0;32mIn[29], line 1\u001b[0m\n\u001b[0;32m----> 1\u001b[0m [model,history] \u001b[38;5;241m=\u001b[39m \u001b[43mtrain_model\u001b[49m\u001b[43m(\u001b[49m\u001b[43mmodel\u001b[49m\u001b[43m,\u001b[49m\u001b[43mdataloaders\u001b[49m\u001b[38;5;241;43m=\u001b[39;49m\u001b[43m{\u001b[49m\u001b[38;5;124;43m'\u001b[39;49m\u001b[38;5;124;43mtrain\u001b[39;49m\u001b[38;5;124;43m'\u001b[39;49m\u001b[43m:\u001b[49m\u001b[43mtrain_dl\u001b[49m\u001b[43m}\u001b[49m\u001b[43m,\u001b[49m\u001b[43moptimizer\u001b[49m\u001b[38;5;241;43m=\u001b[39;49m\u001b[43mopt_func\u001b[49m\u001b[43m,\u001b[49m\u001b[43mnum_epochs\u001b[49m\u001b[38;5;241;43m=\u001b[39;49m\u001b[43mnum_epochs\u001b[49m\u001b[43m,\u001b[49m\n\u001b[1;32m      2\u001b[0m \u001b[43m                    \u001b[49m\u001b[43mcriterion\u001b[49m\u001b[38;5;241;43m=\u001b[39;49m\u001b[43mcriterion\u001b[49m\u001b[43m,\u001b[49m\u001b[43mscheduler\u001b[49m\u001b[38;5;241;43m=\u001b[39;49m\u001b[43mscheduler\u001b[49m\u001b[43m,\u001b[49m\u001b[43mnorm\u001b[49m\u001b[38;5;241;43m=\u001b[39;49m\u001b[38;5;241;43m100\u001b[39;49m\u001b[43m)\u001b[49m\n",
      "Cell \u001b[0;32mIn[24], line 48\u001b[0m, in \u001b[0;36mtrain_model\u001b[0;34m(model, dataloaders, criterion, optimizer, norm, debut, num_epochs, is_inception, scheduler)\u001b[0m\n\u001b[1;32m     46\u001b[0m     \u001b[38;5;28;01mif\u001b[39;00m phase \u001b[38;5;241m==\u001b[39m \u001b[38;5;124m'\u001b[39m\u001b[38;5;124mtrain\u001b[39m\u001b[38;5;124m'\u001b[39m:\n\u001b[1;32m     47\u001b[0m         action_loss\u001b[38;5;241m.\u001b[39mbackward()\n\u001b[0;32m---> 48\u001b[0m         \u001b[43moptimizer\u001b[49m\u001b[38;5;241;43m.\u001b[39;49m\u001b[43mstep\u001b[49m\u001b[43m(\u001b[49m\u001b[43m)\u001b[49m\n\u001b[1;32m     50\u001b[0m \u001b[38;5;66;03m# statistics\u001b[39;00m\n\u001b[1;32m     51\u001b[0m running_loss \u001b[38;5;241m+\u001b[39m\u001b[38;5;241m=\u001b[39m loss\u001b[38;5;241m.\u001b[39mitem() \u001b[38;5;241m*\u001b[39m inputs\u001b[38;5;241m.\u001b[39msize(\u001b[38;5;241m0\u001b[39m)\n",
      "File \u001b[0;32m~/hbrachem-venv/lib/python3.8/site-packages/torch/optim/optimizer.py:140\u001b[0m, in \u001b[0;36mOptimizer._hook_for_profile.<locals>.profile_hook_step.<locals>.wrapper\u001b[0;34m(*args, **kwargs)\u001b[0m\n\u001b[1;32m    138\u001b[0m profile_name \u001b[38;5;241m=\u001b[39m \u001b[38;5;124m\"\u001b[39m\u001b[38;5;124mOptimizer.step#\u001b[39m\u001b[38;5;132;01m{}\u001b[39;00m\u001b[38;5;124m.step\u001b[39m\u001b[38;5;124m\"\u001b[39m\u001b[38;5;241m.\u001b[39mformat(obj\u001b[38;5;241m.\u001b[39m\u001b[38;5;18m__class__\u001b[39m\u001b[38;5;241m.\u001b[39m\u001b[38;5;18m__name__\u001b[39m)\n\u001b[1;32m    139\u001b[0m \u001b[38;5;28;01mwith\u001b[39;00m torch\u001b[38;5;241m.\u001b[39mautograd\u001b[38;5;241m.\u001b[39mprofiler\u001b[38;5;241m.\u001b[39mrecord_function(profile_name):\n\u001b[0;32m--> 140\u001b[0m     out \u001b[38;5;241m=\u001b[39m \u001b[43mfunc\u001b[49m\u001b[43m(\u001b[49m\u001b[38;5;241;43m*\u001b[39;49m\u001b[43margs\u001b[49m\u001b[43m,\u001b[49m\u001b[43m \u001b[49m\u001b[38;5;241;43m*\u001b[39;49m\u001b[38;5;241;43m*\u001b[39;49m\u001b[43mkwargs\u001b[49m\u001b[43m)\u001b[49m\n\u001b[1;32m    141\u001b[0m     obj\u001b[38;5;241m.\u001b[39m_optimizer_step_code()\n\u001b[1;32m    142\u001b[0m     \u001b[38;5;28;01mreturn\u001b[39;00m out\n",
      "File \u001b[0;32m~/hbrachem-venv/lib/python3.8/site-packages/torch/optim/optimizer.py:23\u001b[0m, in \u001b[0;36m_use_grad_for_differentiable.<locals>._use_grad\u001b[0;34m(self, *args, **kwargs)\u001b[0m\n\u001b[1;32m     21\u001b[0m \u001b[38;5;28;01mtry\u001b[39;00m:\n\u001b[1;32m     22\u001b[0m     torch\u001b[38;5;241m.\u001b[39mset_grad_enabled(\u001b[38;5;28mself\u001b[39m\u001b[38;5;241m.\u001b[39mdefaults[\u001b[38;5;124m'\u001b[39m\u001b[38;5;124mdifferentiable\u001b[39m\u001b[38;5;124m'\u001b[39m])\n\u001b[0;32m---> 23\u001b[0m     ret \u001b[38;5;241m=\u001b[39m \u001b[43mfunc\u001b[49m\u001b[43m(\u001b[49m\u001b[38;5;28;43mself\u001b[39;49m\u001b[43m,\u001b[49m\u001b[43m \u001b[49m\u001b[38;5;241;43m*\u001b[39;49m\u001b[43margs\u001b[49m\u001b[43m,\u001b[49m\u001b[43m \u001b[49m\u001b[38;5;241;43m*\u001b[39;49m\u001b[38;5;241;43m*\u001b[39;49m\u001b[43mkwargs\u001b[49m\u001b[43m)\u001b[49m\n\u001b[1;32m     24\u001b[0m \u001b[38;5;28;01mfinally\u001b[39;00m:\n\u001b[1;32m     25\u001b[0m     torch\u001b[38;5;241m.\u001b[39mset_grad_enabled(prev_grad)\n",
      "File \u001b[0;32m~/hbrachem-venv/lib/python3.8/site-packages/torch/optim/adam.py:220\u001b[0m, in \u001b[0;36mAdam.step\u001b[0;34m(self, closure, grad_scaler)\u001b[0m\n\u001b[1;32m    218\u001b[0m state[\u001b[38;5;124m'\u001b[39m\u001b[38;5;124mexp_avg\u001b[39m\u001b[38;5;124m'\u001b[39m] \u001b[38;5;241m=\u001b[39m torch\u001b[38;5;241m.\u001b[39mzeros_like(p, memory_format\u001b[38;5;241m=\u001b[39mtorch\u001b[38;5;241m.\u001b[39mpreserve_format)\n\u001b[1;32m    219\u001b[0m \u001b[38;5;66;03m# Exponential moving average of squared gradient values\u001b[39;00m\n\u001b[0;32m--> 220\u001b[0m state[\u001b[38;5;124m'\u001b[39m\u001b[38;5;124mexp_avg_sq\u001b[39m\u001b[38;5;124m'\u001b[39m] \u001b[38;5;241m=\u001b[39m \u001b[43mtorch\u001b[49m\u001b[38;5;241;43m.\u001b[39;49m\u001b[43mzeros_like\u001b[49m\u001b[43m(\u001b[49m\u001b[43mp\u001b[49m\u001b[43m,\u001b[49m\u001b[43m \u001b[49m\u001b[43mmemory_format\u001b[49m\u001b[38;5;241;43m=\u001b[39;49m\u001b[43mtorch\u001b[49m\u001b[38;5;241;43m.\u001b[39;49m\u001b[43mpreserve_format\u001b[49m\u001b[43m)\u001b[49m\n\u001b[1;32m    221\u001b[0m \u001b[38;5;28;01mif\u001b[39;00m group[\u001b[38;5;124m'\u001b[39m\u001b[38;5;124mamsgrad\u001b[39m\u001b[38;5;124m'\u001b[39m]:\n\u001b[1;32m    222\u001b[0m     \u001b[38;5;66;03m# Maintains max of all exp. moving avg. of sq. grad. values\u001b[39;00m\n\u001b[1;32m    223\u001b[0m     state[\u001b[38;5;124m'\u001b[39m\u001b[38;5;124mmax_exp_avg_sq\u001b[39m\u001b[38;5;124m'\u001b[39m] \u001b[38;5;241m=\u001b[39m torch\u001b[38;5;241m.\u001b[39mzeros_like(p, memory_format\u001b[38;5;241m=\u001b[39mtorch\u001b[38;5;241m.\u001b[39mpreserve_format)\n",
      "\u001b[0;31mOutOfMemoryError\u001b[0m: CUDA out of memory. Tried to allocate 20.00 MiB (GPU 0; 10.75 GiB total capacity; 3.33 GiB already allocated; 17.00 MiB free; 3.65 GiB reserved in total by PyTorch) If reserved memory is >> allocated memory try setting max_split_size_mb to avoid fragmentation.  See documentation for Memory Management and PYTORCH_CUDA_ALLOC_CONF"
     ]
    }
   ],
   "source": [
    "[model,history] = train_model(model,dataloaders={'train':train_dl},optimizer=opt_func,num_epochs=num_epochs,\n",
    "                    criterion=criterion,scheduler=scheduler,norm=100)"
   ]
  },
  {
   "cell_type": "code",
   "execution_count": 27,
   "metadata": {},
   "outputs": [
    {
     "name": "stdout",
     "output_type": "stream",
     "text": [
      "konvid.html  live.html  \u001b[0m\u001b[01;34mtrain\u001b[0m/  youtube.html\r\n"
     ]
    }
   ],
   "source": [
    "ls Features/resnet50/"
   ]
  },
  {
   "cell_type": "code",
   "execution_count": 23,
   "metadata": {
    "id": "rQ438TkOT7MK"
   },
   "outputs": [],
   "source": [
    "torch.save(model.state_dict(), 'checkpoint.pth')"
   ]
  },
  {
   "cell_type": "code",
   "execution_count": null,
   "metadata": {
    "colab": {
     "base_uri": "https://localhost:8080/"
    },
    "executionInfo": {
     "elapsed": 1267,
     "status": "ok",
     "timestamp": 1677752932649,
     "user": {
      "displayName": "Hanene Fatima Zohra BRACHEMI MEFTAH",
      "userId": "05471859942716114157"
     },
     "user_tz": -60
    },
    "id": "0dcKfP6VT_ZC",
    "outputId": "99b450ac-d8b4-4a81-d150-9b08afd5d738"
   },
   "outputs": [
    {
     "name": "stdout",
     "output_type": "stream",
     "text": [
      " checkpoint.pth                   ids.pickle               \u001b[0m\u001b[01;34mtimesformer\u001b[0m/\n",
      "'CNN+TimeSformer (copie).ipynb'   __init__.py              tools.py\n",
      " CNN+TimeSformer.ipynb            \u001b[01;34m__MACOSX\u001b[0m/                \u001b[01;34mtrain\u001b[0m/\n",
      " data.ipynb                       \u001b[01;34m__pycache__\u001b[0m/             train_ids.pickle\n",
      " dataset.py                       scores1.pickle           train.txt\n",
      " \u001b[01;34mFeatures\u001b[0m/                        scores_combined.pickle   \u001b[01;34mvalidation\u001b[0m/\n",
      " features_extraction.ipynb        scores.pickle\n"
     ]
    }
   ],
   "source": [
    "ls"
   ]
  },
  {
   "cell_type": "code",
   "execution_count": 36,
   "metadata": {
    "id": "wPNZjjMcihJl"
   },
   "outputs": [],
   "source": [
    "import matplotlib.pyplot as plt"
   ]
  },
  {
   "cell_type": "code",
   "execution_count": 55,
   "metadata": {
    "colab": {
     "base_uri": "https://localhost:8080/",
     "height": 282
    },
    "executionInfo": {
     "elapsed": 693,
     "status": "ok",
     "timestamp": 1677752933339,
     "user": {
      "displayName": "Hanene Fatima Zohra BRACHEMI MEFTAH",
      "userId": "05471859942716114157"
     },
     "user_tz": -60
    },
    "id": "CgploFIailsx",
    "outputId": "492d3b83-cb07-419e-96d4-9983da467a32"
   },
   "outputs": [
    {
     "data": {
      "text/plain": [
       "[<matplotlib.lines.Line2D at 0x7efc223d12e0>]"
      ]
     },
     "execution_count": 55,
     "metadata": {},
     "output_type": "execute_result"
    },
    {
     "data": {
      "image/png": "[encoded data removed]",
      "text/plain": [
       "<Figure size 640x480 with 1 Axes>"
      ]
     },
     "metadata": {},
     "output_type": "display_data"
    }
   ],
   "source": [
    "#plt.plot(range(len(history[\"val\"])),history[\"val\"])\n",
    "plt.plot(range(len(history[\"loss\"])),history[\"loss\"])"
   ]
  },
  {
   "cell_type": "markdown",
   "metadata": {
    "id": "B5N15-4fFOAg"
   },
   "source": [
    "#Test"
   ]
  },
  {
   "cell_type": "code",
   "execution_count": 21,
   "metadata": {
    "id": "iTcNHGrJJN7U"
   },
   "outputs": [],
   "source": [
    "def step(inputs):\n",
    "    data, label = inputs\n",
    "    data=data.cpu()\n",
    "    preds = model(data)\n",
    "    return preds, label"
   ]
  },
  {
   "cell_type": "code",
   "execution_count": 40,
   "metadata": {},
   "outputs": [
    {
     "data": {
      "text/plain": [
       "[tensor([0.2451]),\n",
       " tensor([0.1448]),\n",
       " tensor([0.0917]),\n",
       " tensor([0.2222]),\n",
       " tensor([0.2305]),\n",
       " tensor([0.2109]),\n",
       " tensor([0.2140]),\n",
       " tensor([0.1596]),\n",
       " tensor([0.1953]),\n",
       " tensor([0.2343]),\n",
       " tensor([0.1065]),\n",
       " tensor([0.1246]),\n",
       " tensor([0.1892]),\n",
       " tensor([0.4091]),\n",
       " tensor([0.0026]),\n",
       " tensor([0.2116]),\n",
       " tensor([0.2157]),\n",
       " tensor([0.1410]),\n",
       " tensor([0.3507]),\n",
       " tensor([0.2074]),\n",
       " tensor([0.2502]),\n",
       " tensor([0.1876]),\n",
       " tensor([0.1423]),\n",
       " tensor([0.1908]),\n",
       " tensor([0.2854]),\n",
       " tensor([0.2317]),\n",
       " tensor([0.3812]),\n",
       " tensor([0.0831]),\n",
       " tensor([0.3462]),\n",
       " tensor([0.1765]),\n",
       " tensor([0.1388]),\n",
       " tensor([0.2153]),\n",
       " tensor([0.2004]),\n",
       " tensor([0.0653]),\n",
       " tensor([0.2272]),\n",
       " tensor([0.3639]),\n",
       " tensor([0.2161]),\n",
       " tensor([0.3916]),\n",
       " tensor([0.1990]),\n",
       " tensor([0.1929]),\n",
       " tensor([0.0366]),\n",
       " tensor([0.3829]),\n",
       " tensor([0.2358]),\n",
       " tensor([0.0363]),\n",
       " tensor([0.1828]),\n",
       " tensor([0.4003]),\n",
       " tensor([0.1381]),\n",
       " tensor([0.1682]),\n",
       " tensor([0.3658]),\n",
       " tensor([0.1962]),\n",
       " tensor([0.2248]),\n",
       " tensor([0.2479]),\n",
       " tensor([0.2632]),\n",
       " tensor([0.2175]),\n",
       " tensor([0.0480]),\n",
       " tensor([0.0641]),\n",
       " tensor([0.1521]),\n",
       " tensor([0.3381]),\n",
       " tensor([-0.0985]),\n",
       " tensor([0.0875]),\n",
       " tensor([0.2702]),\n",
       " tensor([0.2007]),\n",
       " tensor([0.2113]),\n",
       " tensor([0.3194]),\n",
       " tensor([0.1912]),\n",
       " tensor([0.3814]),\n",
       " tensor([0.1476]),\n",
       " tensor([0.2482]),\n",
       " tensor([0.2131]),\n",
       " tensor([0.2001]),\n",
       " tensor([0.2156]),\n",
       " tensor([0.2217]),\n",
       " tensor([0.0829]),\n",
       " tensor([0.1719]),\n",
       " tensor([0.3362]),\n",
       " tensor([0.1880]),\n",
       " tensor([0.1699]),\n",
       " tensor([0.2681]),\n",
       " tensor([0.4156]),\n",
       " tensor([0.1845]),\n",
       " tensor([0.1622]),\n",
       " tensor([0.4932]),\n",
       " tensor([0.0988]),\n",
       " tensor([0.2212]),\n",
       " tensor([0.2602]),\n",
       " tensor([0.3031]),\n",
       " tensor([0.2200]),\n",
       " tensor([0.4724]),\n",
       " tensor([0.0473]),\n",
       " tensor([0.3214]),\n",
       " tensor([0.2130]),\n",
       " tensor([0.3368]),\n",
       " tensor([0.2755]),\n",
       " tensor([0.2160]),\n",
       " tensor([0.2186]),\n",
       " tensor([0.2385]),\n",
       " tensor([0.0541]),\n",
       " tensor([0.2300]),\n",
       " tensor([0.1236]),\n",
       " tensor([0.2350]),\n",
       " tensor([0.3169]),\n",
       " tensor([0.2027]),\n",
       " tensor([0.2180]),\n",
       " tensor([0.3563]),\n",
       " tensor([0.2998]),\n",
       " tensor([0.1898]),\n",
       " tensor([0.2455]),\n",
       " tensor([0.1952]),\n",
       " tensor([0.2698]),\n",
       " tensor([0.2702]),\n",
       " tensor([0.1699]),\n",
       " tensor([0.0711]),\n",
       " tensor([0.2481]),\n",
       " tensor([0.1651]),\n",
       " tensor([0.2189]),\n",
       " tensor([0.4132]),\n",
       " tensor([0.0084]),\n",
       " tensor([0.0998]),\n",
       " tensor([0.2863]),\n",
       " tensor([0.1927]),\n",
       " tensor([0.1922]),\n",
       " tensor([0.2330]),\n",
       " tensor([0.2166]),\n",
       " tensor([0.2241]),\n",
       " tensor([0.1988]),\n",
       " tensor([0.1613]),\n",
       " tensor([0.2168]),\n",
       " tensor([0.0861]),\n",
       " tensor([0.2140]),\n",
       " tensor([0.2770]),\n",
       " tensor([0.2248]),\n",
       " tensor([0.0410]),\n",
       " tensor([0.2110]),\n",
       " tensor([0.1891]),\n",
       " tensor([0.2363]),\n",
       " tensor([-0.0499]),\n",
       " tensor([0.1590]),\n",
       " tensor([0.2747]),\n",
       " tensor([0.0649]),\n",
       " tensor([0.2663]),\n",
       " tensor([0.1881]),\n",
       " tensor([0.2381]),\n",
       " tensor([0.2209]),\n",
       " tensor([0.2184]),\n",
       " tensor([0.3697]),\n",
       " tensor([0.1610]),\n",
       " tensor([0.1813]),\n",
       " tensor([0.2224]),\n",
       " tensor([0.2039]),\n",
       " tensor([0.3849]),\n",
       " tensor([0.2313]),\n",
       " tensor([0.1720]),\n",
       " tensor([0.1922]),\n",
       " tensor([0.0449]),\n",
       " tensor([0.1862]),\n",
       " tensor([0.2488]),\n",
       " tensor([0.2039]),\n",
       " tensor([0.2705]),\n",
       " tensor([0.2034]),\n",
       " tensor([0.0129]),\n",
       " tensor([0.0739]),\n",
       " tensor([0.2045]),\n",
       " tensor([0.1015]),\n",
       " tensor([0.1815]),\n",
       " tensor([0.2311]),\n",
       " tensor([0.1227]),\n",
       " tensor([0.2221]),\n",
       " tensor([0.1390]),\n",
       " tensor([0.2403]),\n",
       " tensor([0.1190]),\n",
       " tensor([0.1958]),\n",
       " tensor([0.2604]),\n",
       " tensor([0.2228]),\n",
       " tensor([0.3771]),\n",
       " tensor([0.3882]),\n",
       " tensor([0.0262]),\n",
       " tensor([0.4136]),\n",
       " tensor([0.1944]),\n",
       " tensor([0.1227]),\n",
       " tensor([0.0499]),\n",
       " tensor([0.3009]),\n",
       " tensor([0.1614]),\n",
       " tensor([0.2446]),\n",
       " tensor([0.2610]),\n",
       " tensor([0.1474]),\n",
       " tensor([0.1148]),\n",
       " tensor([0.1227]),\n",
       " tensor([-0.0075]),\n",
       " tensor([0.1764]),\n",
       " tensor([0.1384]),\n",
       " tensor([0.2423]),\n",
       " tensor([0.3538]),\n",
       " tensor([0.1966]),\n",
       " tensor([0.0911]),\n",
       " tensor([0.4676]),\n",
       " tensor([0.1660]),\n",
       " tensor([0.1386]),\n",
       " tensor([0.2349]),\n",
       " tensor([0.3499]),\n",
       " tensor([-0.0827]),\n",
       " tensor([0.2985]),\n",
       " tensor([0.1628]),\n",
       " tensor([0.1969]),\n",
       " tensor([0.1972]),\n",
       " tensor([0.2109]),\n",
       " tensor([0.2622]),\n",
       " tensor([-0.0476]),\n",
       " tensor([0.0448]),\n",
       " tensor([0.1617]),\n",
       " tensor([0.1368]),\n",
       " tensor([-0.0597]),\n",
       " tensor([0.2362]),\n",
       " tensor([0.2673]),\n",
       " tensor([0.1885]),\n",
       " tensor([0.2586]),\n",
       " tensor([0.1977]),\n",
       " tensor([0.1596]),\n",
       " tensor([0.4892]),\n",
       " tensor([0.1872]),\n",
       " tensor([0.2721]),\n",
       " tensor([0.4251]),\n",
       " tensor([0.3706]),\n",
       " tensor([0.2322]),\n",
       " tensor([0.2211]),\n",
       " tensor([-0.0042]),\n",
       " tensor([0.1549]),\n",
       " tensor([-0.0537]),\n",
       " tensor([0.2104]),\n",
       " tensor([0.4146]),\n",
       " tensor([0.1972]),\n",
       " tensor([0.2640]),\n",
       " tensor([0.1910]),\n",
       " tensor([0.2730]),\n",
       " tensor([0.1478]),\n",
       " tensor([0.2047]),\n",
       " tensor([0.1991]),\n",
       " tensor([0.2185]),\n",
       " tensor([0.2461]),\n",
       " tensor([0.1731]),\n",
       " tensor([0.2316]),\n",
       " tensor([0.1700]),\n",
       " tensor([0.1825]),\n",
       " tensor([0.1124]),\n",
       " tensor([0.3314]),\n",
       " tensor([0.1404]),\n",
       " tensor([0.1760]),\n",
       " tensor([0.1307]),\n",
       " tensor([0.1619]),\n",
       " tensor([0.4254]),\n",
       " tensor([0.1678]),\n",
       " tensor([0.4348]),\n",
       " tensor([0.2266]),\n",
       " tensor([0.3609]),\n",
       " tensor([0.1908]),\n",
       " tensor([0.3883]),\n",
       " tensor([-0.0158]),\n",
       " tensor([0.2559]),\n",
       " tensor([0.3710]),\n",
       " tensor([0.2280]),\n",
       " tensor([0.2391]),\n",
       " tensor([0.2354]),\n",
       " tensor([0.1296]),\n",
       " tensor([0.2680]),\n",
       " tensor([0.1941]),\n",
       " tensor([0.3993]),\n",
       " tensor([0.2666]),\n",
       " tensor([0.1664]),\n",
       " tensor([0.1617]),\n",
       " tensor([0.0897]),\n",
       " tensor([0.3052]),\n",
       " tensor([0.0048]),\n",
       " tensor([0.2709]),\n",
       " tensor([0.2047]),\n",
       " tensor([0.1914]),\n",
       " tensor([0.2329]),\n",
       " tensor([0.2011]),\n",
       " tensor([0.2622]),\n",
       " tensor([-0.0181]),\n",
       " tensor([0.3661]),\n",
       " tensor([0.1761]),\n",
       " tensor([0.1685]),\n",
       " tensor([0.2052]),\n",
       " tensor([0.1760]),\n",
       " tensor([0.2474]),\n",
       " tensor([0.0399]),\n",
       " tensor([0.2580]),\n",
       " tensor([0.1699]),\n",
       " tensor([0.3916]),\n",
       " tensor([-0.0405]),\n",
       " tensor([0.2052]),\n",
       " tensor([0.2173]),\n",
       " tensor([0.2697]),\n",
       " tensor([0.0484]),\n",
       " tensor([0.3791]),\n",
       " tensor([0.2166]),\n",
       " tensor([0.2942]),\n",
       " tensor([0.2224]),\n",
       " tensor([0.0800]),\n",
       " tensor([0.4057]),\n",
       " tensor([0.2075]),\n",
       " tensor([-0.0100]),\n",
       " tensor([0.2560]),\n",
       " tensor([0.0729]),\n",
       " tensor([0.2546]),\n",
       " tensor([0.2652]),\n",
       " tensor([0.1200]),\n",
       " tensor([0.3963]),\n",
       " tensor([0.2526]),\n",
       " tensor([0.2973]),\n",
       " tensor([0.2429]),\n",
       " tensor([0.1850]),\n",
       " tensor([0.2667]),\n",
       " tensor([0.2253]),\n",
       " tensor([0.3020]),\n",
       " tensor([0.2634]),\n",
       " tensor([0.3650]),\n",
       " tensor([0.2478]),\n",
       " tensor([0.1334]),\n",
       " tensor([0.2407]),\n",
       " tensor([0.1403]),\n",
       " tensor([0.2257]),\n",
       " tensor([0.2211]),\n",
       " tensor([0.2276]),\n",
       " tensor([0.2779]),\n",
       " tensor([0.1068]),\n",
       " tensor([0.2069]),\n",
       " tensor([0.1773]),\n",
       " tensor([0.2022]),\n",
       " tensor([0.2088]),\n",
       " tensor([0.2220]),\n",
       " tensor([0.2437]),\n",
       " tensor([0.2081]),\n",
       " tensor([0.1634]),\n",
       " tensor([0.2055]),\n",
       " tensor([0.2097]),\n",
       " tensor([0.2936]),\n",
       " tensor([0.2618]),\n",
       " tensor([0.2285]),\n",
       " tensor([0.2771]),\n",
       " tensor([0.1966]),\n",
       " tensor([0.2897]),\n",
       " tensor([0.1788]),\n",
       " tensor([0.0940]),\n",
       " tensor([0.2120]),\n",
       " tensor([0.2942]),\n",
       " tensor([0.1374]),\n",
       " tensor([0.2073]),\n",
       " tensor([0.0746]),\n",
       " tensor([0.2391]),\n",
       " tensor([0.0542]),\n",
       " tensor([0.3333]),\n",
       " tensor([0.2077]),\n",
       " tensor([0.2084]),\n",
       " tensor([0.2171]),\n",
       " tensor([0.2312]),\n",
       " tensor([0.2205]),\n",
       " tensor([0.2816]),\n",
       " tensor([0.2036]),\n",
       " tensor([0.2311]),\n",
       " tensor([0.1693]),\n",
       " tensor([0.2007]),\n",
       " tensor([0.4242]),\n",
       " tensor([0.1147]),\n",
       " tensor([0.1551]),\n",
       " tensor([0.2582]),\n",
       " tensor([0.0691]),\n",
       " tensor([0.2156]),\n",
       " tensor([0.0021]),\n",
       " tensor([0.4312]),\n",
       " tensor([0.0858]),\n",
       " tensor([0.1688]),\n",
       " tensor([0.2214]),\n",
       " tensor([0.1457]),\n",
       " tensor([0.1642]),\n",
       " tensor([0.2848]),\n",
       " tensor([0.2506]),\n",
       " tensor([0.2260]),\n",
       " tensor([0.2216]),\n",
       " tensor([0.1637]),\n",
       " tensor([0.1377]),\n",
       " tensor([0.2055]),\n",
       " tensor([0.2789]),\n",
       " tensor([0.2053]),\n",
       " tensor([-0.3222]),\n",
       " tensor([0.2648]),\n",
       " tensor([0.3216]),\n",
       " tensor([0.1766]),\n",
       " tensor([0.2187]),\n",
       " tensor([0.2097]),\n",
       " tensor([0.1599]),\n",
       " tensor([0.2272]),\n",
       " tensor([0.1647]),\n",
       " tensor([0.2780]),\n",
       " tensor([0.1464]),\n",
       " tensor([0.2218]),\n",
       " tensor([0.2898]),\n",
       " tensor([-0.0150]),\n",
       " tensor([0.2001]),\n",
       " tensor([0.2158]),\n",
       " tensor([-0.0591]),\n",
       " tensor([0.1555]),\n",
       " tensor([0.3707]),\n",
       " tensor([0.1961]),\n",
       " tensor([0.0851]),\n",
       " tensor([0.1860]),\n",
       " tensor([0.2273]),\n",
       " tensor([0.1801]),\n",
       " tensor([0.2068]),\n",
       " tensor([0.2510]),\n",
       " tensor([-0.2336]),\n",
       " tensor([0.1100]),\n",
       " tensor([0.2732]),\n",
       " tensor([0.1878]),\n",
       " tensor([0.4141]),\n",
       " tensor([0.1864]),\n",
       " tensor([0.2343]),\n",
       " tensor([0.0381]),\n",
       " tensor([0.2827]),\n",
       " tensor([0.1960]),\n",
       " tensor([0.0065]),\n",
       " tensor([0.1260]),\n",
       " tensor([0.3011]),\n",
       " tensor([0.1980]),\n",
       " tensor([0.4151]),\n",
       " tensor([0.1505]),\n",
       " tensor([0.2383]),\n",
       " tensor([0.2608]),\n",
       " tensor([0.3425]),\n",
       " tensor([0.2664]),\n",
       " tensor([0.2390]),\n",
       " tensor([0.1909]),\n",
       " tensor([0.0902]),\n",
       " tensor([0.2552]),\n",
       " tensor([0.2249]),\n",
       " tensor([0.0422]),\n",
       " tensor([0.1636]),\n",
       " tensor([0.2168]),\n",
       " tensor([0.1907]),\n",
       " tensor([0.3422]),\n",
       " tensor([0.1727]),\n",
       " tensor([0.4242]),\n",
       " tensor([-0.0344]),\n",
       " tensor([0.1526]),\n",
       " tensor([0.3956]),\n",
       " tensor([0.1114]),\n",
       " tensor([0.2063]),\n",
       " tensor([0.1731]),\n",
       " tensor([0.4027]),\n",
       " tensor([0.2320]),\n",
       " tensor([0.2122]),\n",
       " tensor([0.1528]),\n",
       " tensor([0.3785]),\n",
       " tensor([0.2129]),\n",
       " tensor([0.0216]),\n",
       " tensor([0.1898]),\n",
       " tensor([0.2242]),\n",
       " tensor([0.2670]),\n",
       " tensor([0.3058]),\n",
       " tensor([0.0964]),\n",
       " tensor([0.1472]),\n",
       " tensor([0.1891]),\n",
       " tensor([0.1399]),\n",
       " tensor([0.1224]),\n",
       " tensor([0.2366]),\n",
       " tensor([0.2255]),\n",
       " tensor([0.0779]),\n",
       " tensor([0.1930]),\n",
       " tensor([0.1084]),\n",
       " tensor([0.0287]),\n",
       " tensor([0.1322]),\n",
       " tensor([0.1976]),\n",
       " tensor([0.2271]),\n",
       " tensor([0.0358]),\n",
       " tensor([0.0946]),\n",
       " tensor([0.2222]),\n",
       " tensor([0.2717]),\n",
       " tensor([0.2281]),\n",
       " tensor([0.0708]),\n",
       " tensor([0.2649]),\n",
       " tensor([0.1173]),\n",
       " tensor([0.1769]),\n",
       " tensor([0.2147]),\n",
       " tensor([0.2348]),\n",
       " tensor([-0.0118]),\n",
       " tensor([0.1474]),\n",
       " tensor([0.4029]),\n",
       " tensor([0.2016]),\n",
       " tensor([0.1622]),\n",
       " tensor([0.0610]),\n",
       " tensor([0.4491]),\n",
       " tensor([0.2406]),\n",
       " tensor([0.2233]),\n",
       " tensor([0.2378]),\n",
       " tensor([0.2505]),\n",
       " tensor([0.1020]),\n",
       " tensor([0.1860]),\n",
       " tensor([0.3889]),\n",
       " tensor([-0.0651]),\n",
       " tensor([0.0264]),\n",
       " tensor([0.1915]),\n",
       " tensor([0.3538]),\n",
       " tensor([-0.0152]),\n",
       " tensor([0.0535]),\n",
       " tensor([0.3169]),\n",
       " tensor([0.2334]),\n",
       " tensor([0.2661]),\n",
       " tensor([0.1551]),\n",
       " tensor([0.0463]),\n",
       " tensor([0.2200]),\n",
       " tensor([0.2599]),\n",
       " tensor([0.3874]),\n",
       " tensor([0.1855]),\n",
       " tensor([0.0754]),\n",
       " tensor([0.2020]),\n",
       " tensor([0.2481]),\n",
       " tensor([0.1877]),\n",
       " tensor([0.1733]),\n",
       " tensor([0.0437]),\n",
       " tensor([0.2261]),\n",
       " tensor([0.1687]),\n",
       " tensor([0.3137]),\n",
       " tensor([0.1585]),\n",
       " tensor([0.0516]),\n",
       " tensor([0.3439]),\n",
       " tensor([0.1854]),\n",
       " tensor([0.1979]),\n",
       " tensor([0.0616]),\n",
       " tensor([0.2196]),\n",
       " tensor([0.1802]),\n",
       " tensor([-0.0484]),\n",
       " tensor([0.0917]),\n",
       " tensor([0.0603]),\n",
       " tensor([0.2171]),\n",
       " tensor([0.2921]),\n",
       " tensor([0.1832]),\n",
       " tensor([0.2468]),\n",
       " tensor([0.1946]),\n",
       " tensor([0.2233]),\n",
       " tensor([0.2327]),\n",
       " tensor([-0.0045]),\n",
       " tensor([0.3054]),\n",
       " tensor([0.2680]),\n",
       " tensor([0.1462]),\n",
       " tensor([0.2309]),\n",
       " tensor([0.3830]),\n",
       " tensor([0.0472]),\n",
       " tensor([0.2577]),\n",
       " tensor([0.2418]),\n",
       " tensor([-0.0248]),\n",
       " tensor([0.2221]),\n",
       " tensor([0.1916]),\n",
       " tensor([0.1850]),\n",
       " tensor([0.2181]),\n",
       " tensor([0.1345]),\n",
       " tensor([-0.0154]),\n",
       " tensor([0.2139]),\n",
       " tensor([0.0424]),\n",
       " tensor([0.4107]),\n",
       " tensor([0.2526]),\n",
       " tensor([0.2887]),\n",
       " tensor([0.3428]),\n",
       " tensor([0.2442]),\n",
       " tensor([0.1694]),\n",
       " tensor([-0.3149]),\n",
       " tensor([-0.0819]),\n",
       " tensor([0.1941]),\n",
       " tensor([0.2410]),\n",
       " tensor([0.1975]),\n",
       " tensor([0.2319]),\n",
       " tensor([0.2346]),\n",
       " tensor([0.2215]),\n",
       " tensor([0.0370]),\n",
       " tensor([0.2301]),\n",
       " tensor([0.1764]),\n",
       " tensor([0.2134]),\n",
       " tensor([0.2193]),\n",
       " tensor([0.1981]),\n",
       " tensor([0.1544]),\n",
       " tensor([0.1968]),\n",
       " tensor([0.0376]),\n",
       " tensor([0.3963]),\n",
       " tensor([0.2600]),\n",
       " tensor([0.0619]),\n",
       " tensor([0.0886]),\n",
       " tensor([0.2998]),\n",
       " tensor([0.3565]),\n",
       " tensor([0.2317]),\n",
       " tensor([0.2069]),\n",
       " tensor([0.1446]),\n",
       " tensor([0.0945]),\n",
       " tensor([0.1700]),\n",
       " tensor([0.0150]),\n",
       " tensor([0.0913]),\n",
       " tensor([0.0402]),\n",
       " tensor([0.1650]),\n",
       " tensor([0.1236]),\n",
       " tensor([0.1600]),\n",
       " tensor([0.2611]),\n",
       " tensor([0.1193]),\n",
       " tensor([0.3462]),\n",
       " tensor([0.0528]),\n",
       " tensor([0.1467]),\n",
       " tensor([0.2110]),\n",
       " tensor([0.3058]),\n",
       " tensor([0.1066]),\n",
       " tensor([0.2528]),\n",
       " tensor([0.2901]),\n",
       " tensor([-0.2031]),\n",
       " tensor([0.0482]),\n",
       " tensor([0.2213]),\n",
       " tensor([-0.1959]),\n",
       " tensor([0.2273]),\n",
       " tensor([0.2192]),\n",
       " tensor([0.1644]),\n",
       " tensor([0.2844]),\n",
       " tensor([0.3861]),\n",
       " tensor([0.3976]),\n",
       " tensor([0.1167]),\n",
       " tensor([0.1761]),\n",
       " tensor([0.2553]),\n",
       " tensor([0.3909]),\n",
       " tensor([0.1888]),\n",
       " tensor([0.1896]),\n",
       " tensor([0.2600]),\n",
       " tensor([0.2138]),\n",
       " tensor([0.2284]),\n",
       " tensor([0.0881]),\n",
       " tensor([0.2280]),\n",
       " tensor([0.2530]),\n",
       " tensor([0.2960]),\n",
       " tensor([-0.0043]),\n",
       " tensor([0.3466]),\n",
       " tensor([0.2683]),\n",
       " tensor([-0.1812]),\n",
       " tensor([0.1904]),\n",
       " tensor([0.1977]),\n",
       " tensor([0.2541]),\n",
       " tensor([0.1086]),\n",
       " tensor([0.1216]),\n",
       " tensor([-0.2030]),\n",
       " tensor([0.2601]),\n",
       " tensor([0.2037]),\n",
       " tensor([0.2576]),\n",
       " tensor([-0.0937]),\n",
       " tensor([0.2090]),\n",
       " tensor([0.2340]),\n",
       " tensor([0.2377]),\n",
       " tensor([-0.1435]),\n",
       " tensor([0.2123]),\n",
       " tensor([0.1772]),\n",
       " tensor([0.2507]),\n",
       " tensor([0.0556]),\n",
       " tensor([0.3817]),\n",
       " tensor([0.3809]),\n",
       " tensor([0.2344]),\n",
       " tensor([0.3947]),\n",
       " tensor([0.1550]),\n",
       " tensor([0.2076]),\n",
       " tensor([0.1347]),\n",
       " tensor([0.2020]),\n",
       " tensor([0.1539]),\n",
       " tensor([0.2321]),\n",
       " tensor([0.2187]),\n",
       " tensor([0.2048]),\n",
       " tensor([0.2021]),\n",
       " tensor([-0.0422]),\n",
       " tensor([0.0317]),\n",
       " tensor([-0.0636]),\n",
       " tensor([0.1979]),\n",
       " tensor([0.1902]),\n",
       " tensor([0.2126]),\n",
       " tensor([0.2143]),\n",
       " tensor([0.2014]),\n",
       " tensor([0.2853]),\n",
       " tensor([-0.0596]),\n",
       " tensor([0.1453]),\n",
       " tensor([0.1426]),\n",
       " tensor([0.2431]),\n",
       " tensor([0.1996]),\n",
       " tensor([0.2638]),\n",
       " tensor([0.0722]),\n",
       " tensor([0.2616]),\n",
       " tensor([0.0729]),\n",
       " tensor([0.0834]),\n",
       " tensor([0.3853]),\n",
       " tensor([0.2102]),\n",
       " tensor([0.2242]),\n",
       " tensor([0.1254]),\n",
       " tensor([0.1826]),\n",
       " tensor([0.2632]),\n",
       " tensor([0.1751]),\n",
       " tensor([0.2565]),\n",
       " tensor([0.1223]),\n",
       " tensor([0.3793]),\n",
       " tensor([0.2083]),\n",
       " tensor([0.2908]),\n",
       " tensor([0.2267]),\n",
       " tensor([0.0858]),\n",
       " tensor([0.1710]),\n",
       " tensor([0.2801]),\n",
       " tensor([0.2457]),\n",
       " tensor([0.0370]),\n",
       " tensor([0.1387]),\n",
       " tensor([0.1887]),\n",
       " tensor([0.1551]),\n",
       " tensor([0.2534]),\n",
       " tensor([0.2162]),\n",
       " tensor([0.2562]),\n",
       " tensor([0.2504]),\n",
       " tensor([-0.0284]),\n",
       " tensor([-0.0466]),\n",
       " tensor([0.0203]),\n",
       " tensor([0.1746]),\n",
       " tensor([-0.0049]),\n",
       " tensor([0.2359]),\n",
       " tensor([0.2543]),\n",
       " tensor([0.2544]),\n",
       " tensor([0.2444]),\n",
       " tensor([0.2449]),\n",
       " tensor([0.2242]),\n",
       " tensor([0.0106]),\n",
       " tensor([-0.0375]),\n",
       " tensor([0.2561]),\n",
       " tensor([0.3182]),\n",
       " tensor([0.1740]),\n",
       " tensor([0.2515]),\n",
       " tensor([0.3169]),\n",
       " tensor([0.2784]),\n",
       " tensor([0.3881]),\n",
       " tensor([0.2441]),\n",
       " tensor([0.2644]),\n",
       " tensor([0.1829]),\n",
       " tensor([-0.0287]),\n",
       " tensor([0.1311]),\n",
       " tensor([-0.0793]),\n",
       " tensor([0.1422]),\n",
       " tensor([0.2471]),\n",
       " tensor([0.2452]),\n",
       " tensor([0.0630]),\n",
       " tensor([0.1711]),\n",
       " tensor([-0.0219]),\n",
       " tensor([-0.1776]),\n",
       " tensor([0.1982]),\n",
       " tensor([0.2267]),\n",
       " tensor([-0.0515]),\n",
       " tensor([-0.2231]),\n",
       " tensor([0.1253]),\n",
       " tensor([0.2332]),\n",
       " tensor([0.1685]),\n",
       " tensor([0.2529]),\n",
       " tensor([0.2194]),\n",
       " tensor([0.0103]),\n",
       " tensor([0.2789]),\n",
       " tensor([0.2682]),\n",
       " tensor([0.2318]),\n",
       " tensor([0.2429]),\n",
       " tensor([0.0926]),\n",
       " tensor([0.1731]),\n",
       " tensor([0.2335]),\n",
       " tensor([0.1541]),\n",
       " tensor([0.2283]),\n",
       " tensor([0.2218]),\n",
       " tensor([0.3563]),\n",
       " tensor([0.2629]),\n",
       " tensor([0.1851]),\n",
       " tensor([0.2097]),\n",
       " tensor([0.2032]),\n",
       " tensor([0.4194]),\n",
       " tensor([0.0950]),\n",
       " tensor([0.4029]),\n",
       " tensor([0.2682]),\n",
       " tensor([0.1958]),\n",
       " tensor([0.1521]),\n",
       " tensor([0.3504]),\n",
       " tensor([0.1669]),\n",
       " tensor([0.2406]),\n",
       " tensor([0.1942]),\n",
       " tensor([0.2521]),\n",
       " tensor([0.2169]),\n",
       " tensor([0.2678]),\n",
       " tensor([0.2373]),\n",
       " tensor([0.2250]),\n",
       " tensor([0.2419]),\n",
       " tensor([0.1881]),\n",
       " tensor([0.2042]),\n",
       " tensor([0.0469]),\n",
       " tensor([-0.0101]),\n",
       " tensor([0.1867]),\n",
       " tensor([0.2671]),\n",
       " tensor([0.2798]),\n",
       " tensor([0.1850]),\n",
       " tensor([0.2023]),\n",
       " tensor([0.1276]),\n",
       " tensor([0.1869]),\n",
       " tensor([0.2445]),\n",
       " tensor([0.0816]),\n",
       " tensor([0.2640]),\n",
       " tensor([0.1820]),\n",
       " tensor([0.2848]),\n",
       " tensor([0.1157]),\n",
       " tensor([0.2369]),\n",
       " tensor([0.2244]),\n",
       " tensor([0.1626]),\n",
       " tensor([0.3738]),\n",
       " tensor([0.2518]),\n",
       " tensor([0.2447]),\n",
       " tensor([0.2261]),\n",
       " tensor([0.2006]),\n",
       " tensor([-0.0019]),\n",
       " tensor([0.1563]),\n",
       " tensor([0.2564]),\n",
       " tensor([-0.1910]),\n",
       " tensor([0.1824]),\n",
       " tensor([0.2492]),\n",
       " tensor([0.1879]),\n",
       " tensor([0.1900]),\n",
       " tensor([0.1837]),\n",
       " tensor([0.1946]),\n",
       " tensor([0.2139]),\n",
       " tensor([0.2425]),\n",
       " tensor([0.2758]),\n",
       " tensor([0.0552]),\n",
       " tensor([0.2689]),\n",
       " tensor([0.2598]),\n",
       " tensor([0.0712]),\n",
       " tensor([0.2533]),\n",
       " tensor([0.1722]),\n",
       " tensor([0.1692]),\n",
       " tensor([0.2547]),\n",
       " tensor([0.0019]),\n",
       " tensor([0.2822]),\n",
       " tensor([0.2188]),\n",
       " tensor([0.2870]),\n",
       " tensor([0.3818]),\n",
       " tensor([0.2778]),\n",
       " tensor([0.2248]),\n",
       " tensor([0.2327]),\n",
       " tensor([0.2488]),\n",
       " tensor([0.1412]),\n",
       " tensor([0.2451]),\n",
       " tensor([0.1448]),\n",
       " tensor([0.0917]),\n",
       " tensor([0.2222]),\n",
       " tensor([0.2305]),\n",
       " tensor([0.2109]),\n",
       " tensor([0.2140]),\n",
       " tensor([0.1596]),\n",
       " tensor([0.1953]),\n",
       " tensor([0.2343]),\n",
       " tensor([0.1065]),\n",
       " tensor([0.1246]),\n",
       " tensor([0.1892]),\n",
       " tensor([0.4091]),\n",
       " tensor([0.0026]),\n",
       " tensor([0.2116]),\n",
       " tensor([0.2157]),\n",
       " tensor([0.1410]),\n",
       " tensor([0.3507]),\n",
       " tensor([0.2074]),\n",
       " tensor([0.2502]),\n",
       " tensor([0.1876]),\n",
       " tensor([0.1423]),\n",
       " tensor([0.1908]),\n",
       " tensor([0.2854]),\n",
       " tensor([0.2317]),\n",
       " tensor([0.3812]),\n",
       " tensor([0.0831]),\n",
       " tensor([0.3462]),\n",
       " tensor([0.1765]),\n",
       " tensor([0.1388]),\n",
       " tensor([0.2153]),\n",
       " tensor([0.2004]),\n",
       " tensor([0.0653]),\n",
       " tensor([0.2272]),\n",
       " tensor([0.3639]),\n",
       " tensor([0.2161]),\n",
       " tensor([0.3916]),\n",
       " tensor([0.1990]),\n",
       " tensor([0.1929]),\n",
       " tensor([0.0366]),\n",
       " tensor([0.3829]),\n",
       " tensor([0.2358]),\n",
       " tensor([0.0363]),\n",
       " tensor([0.1828]),\n",
       " tensor([0.4003]),\n",
       " tensor([0.1381]),\n",
       " tensor([0.1682]),\n",
       " tensor([0.3658]),\n",
       " tensor([0.1962]),\n",
       " tensor([0.2248]),\n",
       " tensor([0.2479]),\n",
       " tensor([0.2632]),\n",
       " tensor([0.2175]),\n",
       " tensor([0.0480]),\n",
       " tensor([0.0641]),\n",
       " tensor([0.1521]),\n",
       " tensor([0.3381]),\n",
       " tensor([-0.0985]),\n",
       " tensor([0.0875]),\n",
       " tensor([0.2702]),\n",
       " tensor([0.2007]),\n",
       " tensor([0.2113]),\n",
       " tensor([0.3194]),\n",
       " tensor([0.1912]),\n",
       " tensor([0.3814]),\n",
       " tensor([0.1476]),\n",
       " tensor([0.2482]),\n",
       " tensor([0.2131]),\n",
       " tensor([0.2001]),\n",
       " tensor([0.2156]),\n",
       " tensor([0.2217]),\n",
       " tensor([0.0829]),\n",
       " tensor([0.1719]),\n",
       " tensor([0.3362]),\n",
       " tensor([0.1880]),\n",
       " tensor([0.1699]),\n",
       " tensor([0.2681]),\n",
       " tensor([0.4156]),\n",
       " tensor([0.1845]),\n",
       " tensor([0.1622]),\n",
       " tensor([0.4932]),\n",
       " tensor([0.0988]),\n",
       " tensor([0.2212]),\n",
       " tensor([0.2602]),\n",
       " tensor([0.3031]),\n",
       " tensor([0.2200]),\n",
       " tensor([0.4724]),\n",
       " tensor([0.0473]),\n",
       " tensor([0.3214]),\n",
       " tensor([0.2130]),\n",
       " tensor([0.3368]),\n",
       " tensor([0.2755]),\n",
       " tensor([0.2160]),\n",
       " tensor([0.2186]),\n",
       " tensor([0.2385]),\n",
       " tensor([0.0541]),\n",
       " tensor([0.2300]),\n",
       " tensor([0.1236]),\n",
       " tensor([0.2350]),\n",
       " tensor([0.3169]),\n",
       " tensor([0.2027]),\n",
       " tensor([0.2180]),\n",
       " tensor([0.3563]),\n",
       " tensor([0.2998]),\n",
       " tensor([0.1898]),\n",
       " tensor([0.2455]),\n",
       " tensor([0.1952]),\n",
       " tensor([0.2698]),\n",
       " tensor([0.2702]),\n",
       " tensor([0.1699]),\n",
       " tensor([0.0711]),\n",
       " tensor([0.2481]),\n",
       " tensor([0.1651]),\n",
       " tensor([0.2189]),\n",
       " tensor([0.4132]),\n",
       " tensor([0.0084]),\n",
       " tensor([0.0998]),\n",
       " tensor([0.2863]),\n",
       " tensor([0.1927]),\n",
       " tensor([0.1922]),\n",
       " tensor([0.2330]),\n",
       " tensor([0.2166]),\n",
       " tensor([0.2241]),\n",
       " tensor([0.1988]),\n",
       " tensor([0.1613]),\n",
       " tensor([0.2168]),\n",
       " tensor([0.0861]),\n",
       " tensor([0.2140]),\n",
       " tensor([0.2770]),\n",
       " tensor([0.2248]),\n",
       " tensor([0.0410]),\n",
       " tensor([0.2110]),\n",
       " tensor([0.1891]),\n",
       " tensor([0.2363]),\n",
       " tensor([-0.0499]),\n",
       " tensor([0.1590]),\n",
       " tensor([0.2747]),\n",
       " tensor([0.0649]),\n",
       " tensor([0.2663]),\n",
       " tensor([0.1881]),\n",
       " tensor([0.2381]),\n",
       " tensor([0.2209]),\n",
       " tensor([0.2184]),\n",
       " tensor([0.3697]),\n",
       " tensor([0.1610]),\n",
       " tensor([0.1813]),\n",
       " tensor([0.2224]),\n",
       " tensor([0.2039]),\n",
       " tensor([0.3849]),\n",
       " tensor([0.2313]),\n",
       " tensor([0.1720]),\n",
       " tensor([0.1922]),\n",
       " tensor([0.0449]),\n",
       " tensor([0.1862]),\n",
       " tensor([0.2488]),\n",
       " tensor([0.2039]),\n",
       " tensor([0.2705]),\n",
       " tensor([0.2034]),\n",
       " tensor([0.0129]),\n",
       " tensor([0.0739]),\n",
       " ...]"
      ]
     },
     "execution_count": 40,
     "metadata": {},
     "output_type": "execute_result"
    }
   ],
   "source": [
    "y_pred*100"
   ]
  },
  {
   "cell_type": "code",
   "execution_count": 22,
   "metadata": {
    "colab": {
     "base_uri": "https://localhost:8080/"
    },
    "executionInfo": {
     "elapsed": 3,
     "status": "ok",
     "timestamp": 1677752942853,
     "user": {
      "displayName": "Hanene Fatima Zohra BRACHEMI MEFTAH",
      "userId": "05471859942716114157"
     },
     "user_tz": -60
    },
    "id": "oikXCIxeDvWW",
    "outputId": "da8c3602-8e8c-41bb-b038-59f1cd7d0452"
   },
   "outputs": [],
   "source": [
    "val_dl = train_dl"
   ]
  },
  {
   "cell_type": "code",
   "execution_count": 38,
   "metadata": {
    "colab": {
     "base_uri": "https://localhost:8080/"
    },
    "executionInfo": {
     "elapsed": 87571,
     "status": "ok",
     "timestamp": 1677753031235,
     "user": {
      "displayName": "Hanene Fatima Zohra BRACHEMI MEFTAH",
      "userId": "05471859942716114157"
     },
     "user_tz": -60
    },
    "id": "AJIhzvByFREw",
    "outputId": "dfdb847f-c146-4024-9086-5e4ec55ff285"
   },
   "outputs": [
    {
     "name": "stderr",
     "output_type": "stream",
     "text": [
      "100%|█████████████████████████████████████████| 839/839 [01:45<00:00,  7.94it/s]\n"
     ]
    }
   ],
   "source": [
    "with torch.no_grad():\n",
    "    y_pred=[]\n",
    "    label=[]\n",
    "    for i, batch in enumerate(tqdm(val_dl)):\n",
    "      \n",
    "     #  if id[0].split('/')[0] == 'train':\n",
    "          pred,l = step(batch)\n",
    "          y_pred.append(pred[0].cpu())\n",
    "          label.append(float(l[0][0]))\n"
   ]
  },
  {
   "cell_type": "code",
   "execution_count": 25,
   "metadata": {
    "id": "BQeVZI_sFR60"
   },
   "outputs": [],
   "source": [
    "import pandas\n",
    "import scipy.io\n",
    "import numpy as np\n",
    "import argparse\n",
    "import time\n",
    "import math\n",
    "import os\n",
    "import numpy as np\n",
    "from sklearn.impute import SimpleImputer\n",
    "from sklearn.model_selection import train_test_split\n",
    "from sklearn.linear_model import LinearRegression\n",
    "from sklearn.metrics import mean_squared_error\n",
    "from sklearn import preprocessing\n",
    "from scipy.optimize import curve_fit\n",
    "from sklearn.svm import SVR\n",
    "from sklearn.model_selection import RandomizedSearchCV\n",
    "import scipy.stats\n",
    "from concurrent import futures\n",
    "import functools\n",
    "import warnings\n",
    "warnings.filterwarnings(\"ignore\")\n",
    "\n",
    "def logistic_func(X, bayta1, bayta2, bayta3, bayta4):\n",
    "  # 4-parameter logistic function\n",
    "  logisticPart = 1 + np.exp(np.negative(np.divide(X - bayta3, np.abs(bayta4))))\n",
    "  yhat = bayta2 + np.divide(bayta1 - bayta2, logisticPart)\n",
    "  return yhat\n",
    "\n",
    "def compute_metrics(y_pred, y):\n",
    "  '''\n",
    "  compute metrics btw predictions & labels\n",
    "  '''\n",
    "  # compute SRCC & KRCC\n",
    "  SRCC = scipy.stats.spearmanr(y, y_pred)[0]\n",
    "  try:\n",
    "    KRCC = scipy.stats.kendalltau(y, y_pred)[0]\n",
    "  except:\n",
    "    KRCC = scipy.stats.kendalltau(y, y_pred, method='asymptotic')[0]\n",
    "\n",
    "  # logistic regression btw y_pred & y\n",
    "  beta_init = [np.max(y), np.min(y), np.mean(y_pred), 0.5]\n",
    "  popt, _ = curve_fit(logistic_func, y_pred, y, p0=beta_init, maxfev=int(1e8))\n",
    "  y_pred_logistic = logistic_func(y_pred, *popt)\n",
    "  \n",
    "  # compute  PLCC RMSE\n",
    "  PLCC = scipy.stats.pearsonr(y, y_pred_logistic)[0]\n",
    "  RMSE = np.sqrt(mean_squared_error(y, y_pred_logistic))\n",
    "  return [SRCC, KRCC, PLCC, RMSE]"
   ]
  },
  {
   "cell_type": "markdown",
   "metadata": {
    "id": "XaXp-Ho2FUGu"
   },
   "source": [
    "#Scores"
   ]
  },
  {
   "cell_type": "code",
   "execution_count": 41,
   "metadata": {
    "colab": {
     "base_uri": "https://localhost:8080/"
    },
    "executionInfo": {
     "elapsed": 15,
     "status": "ok",
     "timestamp": 1677753033383,
     "user": {
      "displayName": "Hanene Fatima Zohra BRACHEMI MEFTAH",
      "userId": "05471859942716114157"
     },
     "user_tz": -60
    },
    "id": "yy6OYhqrFPeC",
    "outputId": "796978d7-7f15-4ad3-c312-033486b65a64"
   },
   "outputs": [
    {
     "data": {
      "text/plain": [
       "tensor([0.2305])"
      ]
     },
     "execution_count": 41,
     "metadata": {},
     "output_type": "execute_result"
    }
   ],
   "source": [
    "y_pred[4]"
   ]
  },
  {
   "cell_type": "code",
   "execution_count": 42,
   "metadata": {
    "colab": {
     "base_uri": "https://localhost:8080/"
    },
    "executionInfo": {
     "elapsed": 4,
     "status": "ok",
     "timestamp": 1677678517946,
     "user": {
      "displayName": "Brachemi Hanene",
      "userId": "13579458267954467461"
     },
     "user_tz": -60
    },
    "id": "qBXRgg_PFNcv",
    "outputId": "96c19501-b109-4379-a3cb-274723c77a4f"
   },
   "outputs": [
    {
     "data": {
      "text/plain": [
       "67.82231140136719"
      ]
     },
     "execution_count": 42,
     "metadata": {},
     "output_type": "execute_result"
    }
   ],
   "source": [
    "y_true[4]"
   ]
  },
  {
   "cell_type": "code",
   "execution_count": 43,
   "metadata": {
    "id": "-FgWU94vFTfh"
   },
   "outputs": [],
   "source": [
    "y=[]\n",
    "for i in range(len(y_pred)):\n",
    "  y.append(y_pred[i].cpu()[0]*100)"
   ]
  },
  {
   "cell_type": "code",
   "execution_count": 44,
   "metadata": {
    "id": "gHqDtMRUFXAw"
   },
   "outputs": [],
   "source": [
    "y_true=label"
   ]
  },
  {
   "cell_type": "code",
   "execution_count": 45,
   "metadata": {
    "id": "Za4cnk6UFZC-"
   },
   "outputs": [],
   "source": [
    "[SRCC, KRCC, PLCC, RMSE]=compute_metrics(y,y_true)"
   ]
  },
  {
   "cell_type": "code",
   "execution_count": 46,
   "metadata": {
    "colab": {
     "base_uri": "https://localhost:8080/"
    },
    "executionInfo": {
     "elapsed": 12,
     "status": "ok",
     "timestamp": 1677753033927,
     "user": {
      "displayName": "Hanene Fatima Zohra BRACHEMI MEFTAH",
      "userId": "05471859942716114157"
     },
     "user_tz": -60
    },
    "id": "l8cbR-0aFagx",
    "outputId": "030094f0-e49b-414b-ecae-cc194ba86b0e"
   },
   "outputs": [
    {
     "data": {
      "text/plain": [
       "0.032282964758835284"
      ]
     },
     "execution_count": 46,
     "metadata": {},
     "output_type": "execute_result"
    }
   ],
   "source": [
    "SRCC"
   ]
  },
  {
   "cell_type": "code",
   "execution_count": 47,
   "metadata": {
    "colab": {
     "base_uri": "https://localhost:8080/"
    },
    "executionInfo": {
     "elapsed": 11,
     "status": "ok",
     "timestamp": 1677753033928,
     "user": {
      "displayName": "Hanene Fatima Zohra BRACHEMI MEFTAH",
      "userId": "05471859942716114157"
     },
     "user_tz": -60
    },
    "id": "hZZUMKPiJkMt",
    "outputId": "4c8621be-7c8b-4096-ce7e-295cd492fbcc"
   },
   "outputs": [
    {
     "data": {
      "text/plain": [
       "0.06790882407019916"
      ]
     },
     "execution_count": 47,
     "metadata": {},
     "output_type": "execute_result"
    }
   ],
   "source": [
    "PLCC"
   ]
  },
  {
   "cell_type": "code",
   "execution_count": 48,
   "metadata": {
    "colab": {
     "base_uri": "https://localhost:8080/"
    },
    "executionInfo": {
     "elapsed": 407,
     "status": "ok",
     "timestamp": 1677753071499,
     "user": {
      "displayName": "Hanene Fatima Zohra BRACHEMI MEFTAH",
      "userId": "05471859942716114157"
     },
     "user_tz": -60
    },
    "id": "r4yDdNfqJktk",
    "outputId": "efe16bb4-403d-4e29-f610-1548f200367a"
   },
   "outputs": [
    {
     "data": {
      "text/plain": [
       "0.02148540284063594"
      ]
     },
     "execution_count": 48,
     "metadata": {},
     "output_type": "execute_result"
    }
   ],
   "source": [
    "KRCC"
   ]
  },
  {
   "cell_type": "code",
   "execution_count": 49,
   "metadata": {
    "colab": {
     "base_uri": "https://localhost:8080/"
    },
    "executionInfo": {
     "elapsed": 6,
     "status": "ok",
     "timestamp": 1677753074448,
     "user": {
      "displayName": "Hanene Fatima Zohra BRACHEMI MEFTAH",
      "userId": "05471859942716114157"
     },
     "user_tz": -60
    },
    "id": "LaRIdEnoT7xB",
    "outputId": "58a7dadb-7925-42e4-8047-be4139959e9f"
   },
   "outputs": [
    {
     "data": {
      "text/plain": [
       "12.906629867092361"
      ]
     },
     "execution_count": 49,
     "metadata": {},
     "output_type": "execute_result"
    }
   ],
   "source": [
    "RMSE"
   ]
  },
  {
   "cell_type": "code",
   "execution_count": null,
   "metadata": {
    "id": "0uc6EGWMTf1U"
   },
   "outputs": [],
   "source": [
    "def load_my_state_dict(model, state_dict,exceptions):\n",
    " \n",
    "        own_state = model.state_dict()\n",
    "        for name, param in state_dict.items():\n",
    "          try:\n",
    "            param = param.data\n",
    "            own_state[name].copy_(param)\n",
    "          except:\n",
    "            print('layer not copied: '+name)\n",
    "            "
   ]
  },
  {
   "cell_type": "code",
   "execution_count": null,
   "metadata": {
    "id": "Bx5jOYk1UhMA",
    "outputId": "6699afe7-5cd0-40e7-ce9e-c77856fc3b87"
   },
   "outputs": [
    {
     "name": "stdout",
     "output_type": "stream",
     "text": [
      "combined_resnet50.pth\r\n"
     ]
    }
   ],
   "source": [
    "ls *.pth"
   ]
  },
  {
   "cell_type": "code",
   "execution_count": null,
   "metadata": {
    "id": "bHYhlFgKUhMA"
   },
   "outputs": [],
   "source": [
    "s=torch.load(\"./combined_resnet50.pth\",map_location=device)"
   ]
  },
  {
   "cell_type": "code",
   "execution_count": null,
   "metadata": {
    "id": "3JQNipLbUhMA"
   },
   "outputs": [],
   "source": [
    "load_my_state_dict(model,s,'')"
   ]
  },
  {
   "cell_type": "code",
   "execution_count": null,
   "metadata": {
    "id": "-EykEoojUhMB"
   },
   "outputs": [],
   "source": []
  }
 ],
 "metadata": {
  "accelerator": "GPU",
  "colab": {
   "provenance": []
  },
  "kernelspec": {
   "display_name": "Python 3 (ipykernel)",
   "language": "python",
   "name": "python3"
  },
  "language_info": {
   "codemirror_mode": {
    "name": "ipython",
    "version": 3
   },
   "file_extension": ".py",
   "mimetype": "text/x-python",
   "name": "python",
   "nbconvert_exporter": "python",
   "pygments_lexer": "ipython3",
   "version": "3.8.10"
  }
 },
 "nbformat": 4,
 "nbformat_minor": 1
}
