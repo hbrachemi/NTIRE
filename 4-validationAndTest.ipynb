{
 "cells": [
  {
   "cell_type": "code",
   "execution_count": 1,
   "id": "c012c5c5",
   "metadata": {},
   "outputs": [],
   "source": [
    "from torch.utils.data import  DataLoader,Dataset"
   ]
  },
  {
   "cell_type": "code",
   "execution_count": 2,
   "id": "f6e56011",
   "metadata": {},
   "outputs": [],
   "source": [
    "import os\n",
    "import pickle\n",
    "import numpy as np\n",
    "import torch"
   ]
  },
  {
   "cell_type": "code",
   "execution_count": 3,
   "id": "d4cc93c2",
   "metadata": {},
   "outputs": [],
   "source": [
    "class dataset_withIDs(Dataset):\n",
    "    \"\"\"Adaptive dataset.\"\"\"\n",
    "\n",
    "    def __init__(self,db_path='',ids_path='',\n",
    "                 \n",
    "                 ):\n",
    "        self.db_path=db_path       \n",
    "        self.ids_path=ids_path\n",
    "        \n",
    "        pickle_in = open(self.ids_path,'rb')\n",
    "        self.list_IDs= pickle.load(pickle_in)\n",
    "        self.list_IDs=list(self.list_IDs)\n",
    "        pickle_in.close()   \n",
    "        \n",
    "        \n",
    "    def __len__(self):\n",
    "        return int(len(self.list_IDs))\n",
    "\n",
    "    def __getitem__(self, idx):\n",
    "        if torch.is_tensor(idx):\n",
    "            idx = idx.tolist()\n",
    "        \n",
    "        id=self.list_IDs[idx]\n",
    "     \n",
    "        x=np.load(os.path.join(self.db_path,id+'.npy'))\n",
    "        x=torch.from_numpy(x)\n",
    "        x = (x.permute(2,0,1)).float()\n",
    "\n",
    "     \n",
    "        return id,x"
   ]
  },
  {
   "cell_type": "code",
   "execution_count": 18,
   "id": "ca5fb0df",
   "metadata": {},
   "outputs": [
    {
     "name": "stdout",
     "output_type": "stream",
     "text": [
      "Length of val Data : 119\n"
     ]
    }
   ],
   "source": [
    "val_data=dataset_withIDs(db_path='./Features/resnet50/val/',\n",
    "                        ids_path='ids_val.pickle',\n",
    "                 )\n",
    "                 \n",
    "print(f\"Length of val Data : {len(val_data)}\")"
   ]
  },
  {
   "cell_type": "code",
   "execution_count": 19,
   "id": "0fe6265c",
   "metadata": {},
   "outputs": [
    {
     "name": "stdout",
     "output_type": "stream",
     "text": [
      "Length of test Data : 253\n"
     ]
    }
   ],
   "source": [
    "test_data=dataset_withIDs(db_path='./Features/resnet50/test/',\n",
    "                        ids_path='ids_test.pickle',\n",
    "                 )\n",
    "                 \n",
    "print(f\"Length of test Data : {len(test_data)}\")\n"
   ]
  },
  {
   "cell_type": "code",
   "execution_count": 20,
   "id": "07e46ba4",
   "metadata": {},
   "outputs": [],
   "source": [
    "from torch.utils.data import  DataLoader"
   ]
  },
  {
   "cell_type": "code",
   "execution_count": 21,
   "id": "f96021ed",
   "metadata": {},
   "outputs": [],
   "source": [
    "test_dl = DataLoader(test_data, 1, shuffle = False)\n",
    "val_dl = DataLoader(val_data, 1, shuffle = False)"
   ]
  },
  {
   "cell_type": "code",
   "execution_count": 8,
   "id": "4f97608b",
   "metadata": {},
   "outputs": [],
   "source": [
    "from timesformer.models.vit import TimeSformer\n",
    "import torch.nn as nn"
   ]
  },
  {
   "cell_type": "code",
   "execution_count": 9,
   "id": "1e20b562",
   "metadata": {},
   "outputs": [
    {
     "name": "stderr",
     "output_type": "stream",
     "text": [
      "Pretrained model URL is invalid, using random initialization.\n"
     ]
    }
   ],
   "source": [
    "model = TimeSformer(img_size=50,num_classes=1,patch_size=1,num_frames=20,attention_type='divided_space_time')"
   ]
  },
  {
   "cell_type": "code",
   "execution_count": 24,
   "id": "de6303fa",
   "metadata": {},
   "outputs": [
    {
     "data": {
      "text/plain": [
       "<All keys matched successfully>"
      ]
     },
     "execution_count": 24,
     "metadata": {},
     "output_type": "execute_result"
    }
   ],
   "source": [
    "model.load_state_dict(torch.load('checkpoint.pth'))"
   ]
  },
  {
   "cell_type": "code",
   "execution_count": 25,
   "id": "cc82b878",
   "metadata": {},
   "outputs": [],
   "source": [
    "import time"
   ]
  },
  {
   "cell_type": "code",
   "execution_count": 26,
   "id": "8143e76d",
   "metadata": {},
   "outputs": [],
   "source": [
    "device = torch.device(\"cuda\")\n",
    "if torch.cuda.is_available():\n",
    "    model.cuda()"
   ]
  },
  {
   "cell_type": "code",
   "execution_count": 27,
   "id": "36feddcf",
   "metadata": {},
   "outputs": [],
   "source": [
    "def step(inputs):\n",
    "    data = inputs\n",
    "    data=data.cuda()\n",
    "    preds = model(data)\n",
    "    return preds"
   ]
  },
  {
   "cell_type": "code",
   "execution_count": 28,
   "id": "61ae0b32",
   "metadata": {},
   "outputs": [],
   "source": [
    "part = 'val'"
   ]
  },
  {
   "cell_type": "code",
   "execution_count": 22,
   "id": "ae2e9fdf",
   "metadata": {},
   "outputs": [
    {
     "name": "stderr",
     "output_type": "stream",
     "text": [
      "100%|███████████████████████████████████████████████████████████████████████████████| 119/119 [00:03<00:00, 37.64it/s]\n"
     ]
    }
   ],
   "source": [
    "if part == 'val':\n",
    "    dl = val_dl\n",
    "if part == 'test':\n",
    "    dl = test_dl\n",
    "\n",
    "\n",
    "with open(f'output_{part}.txt', 'w') as f:\n",
    "    with torch.no_grad():\n",
    "        y_pred=[]\n",
    "        ids=[]\n",
    "        t = []\n",
    "        for i,(id, batch) in enumerate(tqdm(dl)):\n",
    "            t1=time.time()\n",
    "            pred = step(batch)\n",
    "            t2=time.time()\n",
    "            t.append(t2-t1)\n",
    "            y_pred.append(float(pred[0][0].cpu())*100)\n",
    "            ids.append(id[0])\n",
    "            line = f\"{id[0]},{y_pred[-1]}\"\n",
    "            f.write(line)\n",
    "            f.write('\\n')\n"
   ]
  },
  {
   "cell_type": "code",
   "execution_count": 23,
   "id": "e8539602",
   "metadata": {},
   "outputs": [
    {
     "data": {
      "text/plain": [
       "0.02499722232337759"
      ]
     },
     "execution_count": 23,
     "metadata": {},
     "output_type": "execute_result"
    }
   ],
   "source": [
    "np.mean(t)"
   ]
  },
  {
   "cell_type": "code",
   "execution_count": null,
   "id": "8a7ffd1d",
   "metadata": {},
   "outputs": [],
   "source": []
  }
 ],
 "metadata": {
  "kernelspec": {
   "display_name": "Python 3 (ipykernel)",
   "language": "python",
   "name": "python3"
  },
  "language_info": {
   "codemirror_mode": {
    "name": "ipython",
    "version": 3
   },
   "file_extension": ".py",
   "mimetype": "text/x-python",
   "name": "python",
   "nbconvert_exporter": "python",
   "pygments_lexer": "ipython3",
   "version": "3.8.10"
  }
 },
 "nbformat": 4,
 "nbformat_minor": 5
}
